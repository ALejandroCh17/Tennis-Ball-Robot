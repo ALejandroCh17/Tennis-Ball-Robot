{
  "cells": [
    {
      "cell_type": "markdown",
      "metadata": {
        "id": "view-in-github",
        "colab_type": "text"
      },
      "source": [
        "<a href=\"https://colab.research.google.com/github/ALejandroCh17/Tennis-Ball-Robot/blob/daniel_branch/model3.ipynb\" target=\"_parent\"><img src=\"https://colab.research.google.com/assets/colab-badge.svg\" alt=\"Open In Colab\"/></a>"
      ]
    },
    {
      "cell_type": "code",
      "source": [
        "from google.colab import drive\n",
        "drive.mount('/content/drive')"
      ],
      "metadata": {
        "colab": {
          "base_uri": "https://localhost:8080/"
        },
        "id": "NR_6xG0qLeSH",
        "outputId": "3a633c30-14b9-403f-9ae1-d20ac0e645de"
      },
      "execution_count": 2,
      "outputs": [
        {
          "output_type": "stream",
          "name": "stdout",
          "text": [
            "Mounted at /content/drive\n"
          ]
        }
      ]
    },
    {
      "cell_type": "code",
      "source": [
        "for label_path in train_label_paths + validation_label_paths + test_label_paths:\n",
        "    with open(label_path, 'r') as file:\n",
        "        label = np.genfromtxt(file, dtype='float32')\n",
        "        if label.shape != (4,):  # Adjust this condition based on your expected label shape\n",
        "            print(f\"Found label with unexpected shape in file {label_path}: {label.shape}\")\n"
      ],
      "metadata": {
        "colab": {
          "base_uri": "https://localhost:8080/",
          "height": 211
        },
        "id": "xyPlNr2eMaYi",
        "outputId": "bfff2d77-47c8-417a-b04f-df5e154a9904"
      },
      "execution_count": 3,
      "outputs": [
        {
          "output_type": "error",
          "ename": "NameError",
          "evalue": "name 'train_label_paths' is not defined",
          "traceback": [
            "\u001b[0;31m---------------------------------------------------------------------------\u001b[0m",
            "\u001b[0;31mNameError\u001b[0m                                 Traceback (most recent call last)",
            "\u001b[0;32m<ipython-input-3-7639153b7a0d>\u001b[0m in \u001b[0;36m<cell line: 1>\u001b[0;34m()\u001b[0m\n\u001b[0;32m----> 1\u001b[0;31m \u001b[0;32mfor\u001b[0m \u001b[0mlabel_path\u001b[0m \u001b[0;32min\u001b[0m \u001b[0mtrain_label_paths\u001b[0m \u001b[0;34m+\u001b[0m \u001b[0mvalidation_label_paths\u001b[0m \u001b[0;34m+\u001b[0m \u001b[0mtest_label_paths\u001b[0m\u001b[0;34m:\u001b[0m\u001b[0;34m\u001b[0m\u001b[0;34m\u001b[0m\u001b[0m\n\u001b[0m\u001b[1;32m      2\u001b[0m     \u001b[0;32mwith\u001b[0m \u001b[0mopen\u001b[0m\u001b[0;34m(\u001b[0m\u001b[0mlabel_path\u001b[0m\u001b[0;34m,\u001b[0m \u001b[0;34m'r'\u001b[0m\u001b[0;34m)\u001b[0m \u001b[0;32mas\u001b[0m \u001b[0mfile\u001b[0m\u001b[0;34m:\u001b[0m\u001b[0;34m\u001b[0m\u001b[0;34m\u001b[0m\u001b[0m\n\u001b[1;32m      3\u001b[0m         \u001b[0mlabel\u001b[0m \u001b[0;34m=\u001b[0m \u001b[0mnp\u001b[0m\u001b[0;34m.\u001b[0m\u001b[0mgenfromtxt\u001b[0m\u001b[0;34m(\u001b[0m\u001b[0mfile\u001b[0m\u001b[0;34m,\u001b[0m \u001b[0mdtype\u001b[0m\u001b[0;34m=\u001b[0m\u001b[0;34m'float32'\u001b[0m\u001b[0;34m)\u001b[0m\u001b[0;34m\u001b[0m\u001b[0;34m\u001b[0m\u001b[0m\n\u001b[1;32m      4\u001b[0m         \u001b[0;32mif\u001b[0m \u001b[0mlabel\u001b[0m\u001b[0;34m.\u001b[0m\u001b[0mshape\u001b[0m \u001b[0;34m!=\u001b[0m \u001b[0;34m(\u001b[0m\u001b[0;36m4\u001b[0m\u001b[0;34m,\u001b[0m\u001b[0;34m)\u001b[0m\u001b[0;34m:\u001b[0m  \u001b[0;31m# Adjust this condition based on your expected label shape\u001b[0m\u001b[0;34m\u001b[0m\u001b[0;34m\u001b[0m\u001b[0m\n\u001b[1;32m      5\u001b[0m             \u001b[0mprint\u001b[0m\u001b[0;34m(\u001b[0m\u001b[0;34mf\"Found label with unexpected shape in file {label_path}: {label.shape}\"\u001b[0m\u001b[0;34m)\u001b[0m\u001b[0;34m\u001b[0m\u001b[0;34m\u001b[0m\u001b[0m\n",
            "\u001b[0;31mNameError\u001b[0m: name 'train_label_paths' is not defined"
          ]
        }
      ]
    },
    {
      "cell_type": "code",
      "execution_count": 5,
      "metadata": {
        "colab": {
          "base_uri": "https://localhost:8080/",
          "height": 211
        },
        "id": "P1pqyuD-5pRu",
        "outputId": "53c94103-582d-4621-fe52-b978163331bd"
      },
      "outputs": [
        {
          "output_type": "error",
          "ename": "NameError",
          "evalue": "name 'create_model' is not defined",
          "traceback": [
            "\u001b[0;31m---------------------------------------------------------------------------\u001b[0m",
            "\u001b[0;31mNameError\u001b[0m                                 Traceback (most recent call last)",
            "\u001b[0;32m<ipython-input-5-662d5c51ebc8>\u001b[0m in \u001b[0;36m<cell line: 86>\u001b[0;34m()\u001b[0m\n\u001b[1;32m     84\u001b[0m \u001b[0;31m# Assuming create_model function is defined and compiled\u001b[0m\u001b[0;34m\u001b[0m\u001b[0;34m\u001b[0m\u001b[0m\n\u001b[1;32m     85\u001b[0m \u001b[0minput_shape\u001b[0m \u001b[0;34m=\u001b[0m \u001b[0;34m(\u001b[0m\u001b[0;36m224\u001b[0m\u001b[0;34m,\u001b[0m \u001b[0;36m224\u001b[0m\u001b[0;34m,\u001b[0m \u001b[0;36m3\u001b[0m\u001b[0;34m)\u001b[0m  \u001b[0;31m# Update this if your images have a different shape\u001b[0m\u001b[0;34m\u001b[0m\u001b[0;34m\u001b[0m\u001b[0m\n\u001b[0;32m---> 86\u001b[0;31m \u001b[0mmodel\u001b[0m \u001b[0;34m=\u001b[0m \u001b[0mcreate_model\u001b[0m\u001b[0;34m(\u001b[0m\u001b[0minput_shape\u001b[0m\u001b[0;34m)\u001b[0m\u001b[0;34m\u001b[0m\u001b[0;34m\u001b[0m\u001b[0m\n\u001b[0m\u001b[1;32m     87\u001b[0m \u001b[0;34m\u001b[0m\u001b[0m\n\u001b[1;32m     88\u001b[0m \u001b[0;31m# Train the model\u001b[0m\u001b[0;34m\u001b[0m\u001b[0;34m\u001b[0m\u001b[0m\n",
            "\u001b[0;31mNameError\u001b[0m: name 'create_model' is not defined"
          ]
        }
      ],
      "source": [
        "import tensorflow as tf\n",
        "import os\n",
        "import numpy as np\n",
        "import matplotlib.pyplot as plt\n",
        "\n",
        "# Define base directory\n",
        "base_dir = '/content/drive/My Drive/capstone_dataset_3/'\n",
        "\n",
        "# Define paths for train, validation, and test sets\n",
        "train_dir = base_dir + 'train/'\n",
        "validation_dir = base_dir + 'valid/'\n",
        "test_dir = base_dir + 'test/'\n",
        "\n",
        "# Define image and label directories\n",
        "train_images_dir = train_dir + 'images/'\n",
        "train_labels_dir = train_dir + 'labels/'\n",
        "validation_images_dir = validation_dir + 'images/'\n",
        "validation_labels_dir = validation_dir + 'labels/'\n",
        "test_images_dir = test_dir + 'images/'\n",
        "test_labels_dir = test_dir + 'labels/'\n",
        "\n",
        "def parse_label_file(label_file_path):\n",
        "    # Convert the input to string, because file paths are expected to be strings\n",
        "    label_file_path = label_file_path.decode('utf-8')\n",
        "    # Load all data from the label file\n",
        "    data = np.genfromtxt(label_file_path, dtype='float32')\n",
        "    # Select the first row if there are multiple, otherwise use the data as is\n",
        "    if data.ndim > 1:\n",
        "        #print(f\"Multiple labels found in {label_file_path}, using the first one.\")\n",
        "        data = data[0, :]\n",
        "    # Skip the first element (class id) and keep the last four elements (bounding box coordinates)\n",
        "    bbox = data[1:]\n",
        "    # Ensure that the label now contains exactly 4 elements\n",
        "    if bbox.shape[0] != 4:\n",
        "        raise ValueError(f'Label file {label_file_path} does not have 4 bounding box values: {bbox}')\n",
        "    return bbox\n",
        "\n",
        "\n",
        "\n",
        "\n",
        "\n",
        "def load_and_preprocess(image_file_path, label_file_path):\n",
        "    img = tf.io.read_file(image_file_path)\n",
        "    img = tf.image.decode_jpeg(img, channels=3)\n",
        "    img = tf.image.resize(img, [224, 224])\n",
        "    img = tf.image.convert_image_dtype(img, tf.float32)\n",
        "    img.set_shape([224, 224, 3])\n",
        "\n",
        "    label = tf.numpy_function(parse_label_file, [label_file_path], tf.float32)\n",
        "    label.set_shape([4])\n",
        "    return img, label\n",
        "\n",
        "\n",
        "\n",
        "# Function to create a dataset from image and label paths\n",
        "def create_dataset(image_paths, label_paths):\n",
        "    image_paths = tf.constant(image_paths)\n",
        "    label_paths = tf.constant(label_paths)\n",
        "\n",
        "    dataset = tf.data.Dataset.from_tensor_slices((image_paths, label_paths))\n",
        "    dataset = dataset.map(load_and_preprocess, num_parallel_calls=tf.data.AUTOTUNE)\n",
        "    return dataset\n",
        "\n",
        "# Collecting image and label file paths\n",
        "train_image_paths = [os.path.join(train_images_dir, img) for img in os.listdir(train_images_dir)]\n",
        "train_label_paths = [os.path.join(train_labels_dir, os.path.splitext(img)[0] + '.txt') for img in os.listdir(train_images_dir)]\n",
        "\n",
        "validation_image_paths = [os.path.join(validation_images_dir, img) for img in os.listdir(validation_images_dir)]\n",
        "validation_label_paths = [os.path.join(validation_labels_dir, os.path.splitext(img)[0] + '.txt') for img in os.listdir(validation_images_dir)]\n",
        "\n",
        "test_image_paths = [os.path.join(test_images_dir, img) for img in os.listdir(test_images_dir)]\n",
        "test_label_paths = [os.path.join(test_labels_dir, os.path.splitext(img)[0] + '.txt') for img in os.listdir(test_images_dir)]\n",
        "\n",
        "# Creating datasets\n",
        "train_dataset = create_dataset(train_image_paths, train_label_paths)\n",
        "validation_dataset = create_dataset(validation_image_paths, validation_label_paths)\n",
        "test_dataset = create_dataset(test_image_paths, test_label_paths)\n",
        "\n",
        "# Batching the datasets\n",
        "train_dataset = train_dataset.batch(32).prefetch(tf.data.AUTOTUNE)\n",
        "validation_dataset = validation_dataset.batch(32).prefetch(tf.data.AUTOTUNE)\n",
        "test_dataset = test_dataset.batch(32).prefetch(tf.data.AUTOTUNE)\n",
        "\n",
        "# Assuming create_model function is defined and compiled\n",
        "input_shape = (224, 224, 3)  # Update this if your images have a different shape\n",
        "model = create_model(input_shape)\n",
        "\n",
        "# Train the model\n",
        "history = model.fit(\n",
        "    train_dataset,\n",
        "    epochs=20,\n",
        "    validation_data=validation_dataset\n",
        ")\n",
        "\"\"\"\n",
        "# Evaluate the model on the test set\n",
        "test_loss, test_accuracy = model.evaluate(test_dataset)\n",
        "print(f\"Test loss: {test_loss}, Test accuracy: {test_accuracy}\")\n",
        "\n",
        "# Plotting training history\n",
        "plt.figure(figsize=(12, 4))\n",
        "\n",
        "plt.subplot(1, 2, 1)\n",
        "plt.plot(history.history['loss'], label='Training Loss')\n",
        "plt.plot(history.history['val_loss'], label='Validation Loss')\n",
        "plt.title('Loss over epochs')\n",
        "plt.xlabel('Epoch')\n",
        "plt.ylabel('Loss')\n",
        "plt.legend()\n",
        "\n",
        "plt.subplot(1, 2, 2)\n",
        "plt.plot(history.history['accuracy'], label='Training Accuracy')\n",
        "plt.plot(history.history['val_accuracy'], label='Validation Accuracy')\n",
        "plt.title('Accuracy over epochs')\n",
        "plt.xlabel('Epoch')\n",
        "plt.ylabel('Accuracy')\n",
        "plt.legend()\n",
        "\n",
        "plt.show()\n",
        "\"\"\""
      ]
    }
  ],
  "metadata": {
    "accelerator": "GPU",
    "colab": {
      "gpuType": "T4",
      "machine_shape": "hm",
      "provenance": [],
      "authorship_tag": "ABX9TyPRTSdfupiqzQcBc8em2vZ8",
      "include_colab_link": true
    },
    "kernelspec": {
      "display_name": "Python 3",
      "name": "python3"
    },
    "language_info": {
      "name": "python"
    }
  },
  "nbformat": 4,
  "nbformat_minor": 0
}