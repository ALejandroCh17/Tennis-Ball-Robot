{
  "cells": [
    {
      "cell_type": "markdown",
      "metadata": {
        "id": "view-in-github",
        "colab_type": "text"
      },
      "source": [
        "<a href=\"https://colab.research.google.com/github/ALejandroCh17/Tennis-Ball-Robot/blob/daniel_branch/model3.ipynb\" target=\"_parent\"><img src=\"https://colab.research.google.com/assets/colab-badge.svg\" alt=\"Open In Colab\"/></a>"
      ]
    },
    {
      "cell_type": "code",
      "source": [
        "from google.colab import drive\n",
        "drive.mount('/content/drive')"
      ],
      "metadata": {
        "colab": {
          "base_uri": "https://localhost:8080/"
        },
        "id": "NR_6xG0qLeSH",
        "outputId": "ce3ed99f-ec46-4bff-a19d-1f7a959b63ba"
      },
      "execution_count": 1,
      "outputs": [
        {
          "output_type": "stream",
          "name": "stdout",
          "text": [
            "Drive already mounted at /content/drive; to attempt to forcibly remount, call drive.mount(\"/content/drive\", force_remount=True).\n"
          ]
        }
      ]
    },
    {
      "cell_type": "code",
      "source": [
        "base_dir = '/content/drive/My Drive/capstone_dataset_3/'\n",
        "\n",
        "train_dir = '/content/drive/My Drive/capstone_dataset_3/train'\n",
        "test_dir = '/content/drive/My Drive/capstone_dataset_3/test'\n",
        "valid_dir = '/content/drive/My Drive/capstone_dataset_3/valid'\n",
        "\n",
        "train_images_dir = '/content/drive/My Drive/capstone_dataset_3/train/images'\n",
        "train_labels_dir = '/content/drive/My Drive/capstone_dataset_3/train/labels'\n",
        "\n",
        "test_images_dir = '/content/drive/My Drive/capstone_dataset_3/test/images'\n",
        "test_labels_dir = '/content/drive/My Drive/capstone_dataset_3/test/labels'\n",
        "\n",
        "valid_images_dir = '/content/drive/My Drive/capstone_dataset_3/valid/images'\n",
        "valid_labels_dir = '/content/drive/My Drive/capstone_dataset_3/valid/labels'\n"
      ],
      "metadata": {
        "id": "qNSExIATBa63"
      },
      "execution_count": 2,
      "outputs": []
    },
    {
      "cell_type": "code",
      "source": [
        "import tensorflow as tf\n",
        "from tensorflow.keras.models import Sequential\n",
        "from tensorflow.keras.layers import Conv2D, MaxPooling2D, Flatten, Dense\n",
        "from tensorflow.keras.optimizers import Adam\n",
        "from tensorflow.keras.preprocessing.image import ImageDataGenerator"
      ],
      "metadata": {
        "id": "YK5K5zpBK4CM"
      },
      "execution_count": 3,
      "outputs": []
    },
    {
      "cell_type": "code",
      "source": [
        "model = Sequential([\n",
        "    Conv2D(32, (3, 3), activation='relu', input_shape=(640, 640, 3)),\n",
        "    MaxPooling2D(2, 2),\n",
        "    Conv2D(64, (3, 3), activation='relu'),\n",
        "    MaxPooling2D(2, 2),\n",
        "    Flatten(),\n",
        "    Dense(128, activation='relu'),\n",
        "    Dense(5, activation='linear')  # The output layer has 5 nodes corresponding to the class label and bounding box coordinates\n",
        "])"
      ],
      "metadata": {
        "id": "zbKSvULVK9Y2"
      },
      "execution_count": 4,
      "outputs": []
    },
    {
      "cell_type": "code",
      "source": [
        "model.compile(optimizer=Adam(lr=1e-4),\n",
        "              loss='mean_squared_error',\n",
        "              metrics=['accuracy'])"
      ],
      "metadata": {
        "id": "yugp6DOnLElx",
        "outputId": "6eff93b3-7053-46c8-c642-c24f948c8dfe",
        "colab": {
          "base_uri": "https://localhost:8080/"
        }
      },
      "execution_count": 5,
      "outputs": [
        {
          "output_type": "stream",
          "name": "stderr",
          "text": [
            "WARNING:absl:`lr` is deprecated in Keras optimizer, please use `learning_rate` or use the legacy optimizer, e.g.,tf.keras.optimizers.legacy.Adam.\n"
          ]
        }
      ]
    },
    {
      "cell_type": "code",
      "source": [
        "import os\n",
        "import numpy as np\n",
        "from tensorflow.keras.utils import Sequence\n",
        "from tensorflow.keras.preprocessing.image import load_img, img_to_array\n",
        "\n",
        "class BoundingBoxDataGenerator(Sequence):\n",
        "    def __init__(self, images_dir, labels_dir, batch_size, img_size, shuffle=True):\n",
        "        self.images_dir = images_dir\n",
        "        self.labels_dir = labels_dir\n",
        "        self.batch_size = batch_size\n",
        "        self.img_size = img_size\n",
        "        self.shuffle = shuffle\n",
        "        self.image_filenames = os.listdir(images_dir)\n",
        "        if shuffle:\n",
        "            np.random.shuffle(self.image_filenames)\n",
        "\n",
        "    def __len__(self):\n",
        "        # Compute the number of batches to produce\n",
        "        return int(np.floor(len(self.image_filenames) / self.batch_size))\n",
        "\n",
        "    def __getitem__(self, index):\n",
        "        # Generate indexes of the batch\n",
        "        indexes = self.image_filenames[index*self.batch_size:(index+1)*self.batch_size]\n",
        "\n",
        "        # Find list of IDs\n",
        "        list_IDs_temp = [k for k in indexes]\n",
        "\n",
        "        # Generate data\n",
        "        X, y = self.__data_generation(list_IDs_temp)\n",
        "\n",
        "        return X, y\n",
        "\n",
        "    def on_epoch_end(self):\n",
        "        # Updates indexes after each epoch\n",
        "        if self.shuffle == True:\n",
        "            np.random.shuffle(self.image_filenames)\n",
        "\n",
        "    def __data_generation(self, list_IDs_temp):\n",
        "        # Initialization\n",
        "        X = np.empty((self.batch_size, *self.img_size, 3))\n",
        "        y = np.empty((self.batch_size, 5))  # Assuming one bounding box per image; adjust if more\n",
        "\n",
        "        # Generate data\n",
        "        for i, ID in enumerate(list_IDs_temp):\n",
        "            # Store sample\n",
        "            img_path = os.path.join(self.images_dir, ID)\n",
        "            img = load_img(img_path, target_size=self.img_size)\n",
        "            X[i,] = img_to_array(img) / 255.0\n",
        "\n",
        "            # Store class label and bounding box\n",
        "            label_path = os.path.join(self.labels_dir, ID.replace('.jpg', '.txt'))\n",
        "            with open(label_path, 'r') as file:\n",
        "                bounding_box = np.loadtxt(file)\n",
        "                y[i,] = bounding_box[0] if bounding_box.ndim == 1 else bounding_box[0, :]  # Adjust if more bounding boxes\n",
        "\n",
        "        return X, y"
      ],
      "metadata": {
        "id": "zI0koyMzMz0G"
      },
      "execution_count": 6,
      "outputs": []
    },
    {
      "cell_type": "code",
      "source": [
        "train_gen = BoundingBoxDataGenerator(\n",
        "    images_dir='/content/drive/My Drive/capstone_dataset_3/train/images',\n",
        "    labels_dir='/content/drive/My Drive/capstone_dataset_3/train/labels',\n",
        "    batch_size=32,\n",
        "    img_size=(640, 640)  # Adjust based on your needs\n",
        ")"
      ],
      "metadata": {
        "id": "2CQgj8L8M-vR"
      },
      "execution_count": 7,
      "outputs": []
    },
    {
      "cell_type": "code",
      "source": [
        "validation_generator = BoundingBoxDataGenerator(\n",
        "    images_dir=valid_images_dir,\n",
        "    labels_dir=valid_labels_dir,\n",
        "    batch_size=32,\n",
        "    img_size=(640, 640)  # Replace with the size you're using for your images\n",
        ")"
      ],
      "metadata": {
        "id": "1xB-dx81Nf2I"
      },
      "execution_count": 8,
      "outputs": []
    },
    {
      "cell_type": "code",
      "source": [
        "# This is also a conceptual step, as the actual training would depend on the data generator implemented in Step 4.\n",
        "model.fit(train_gen, epochs=10, validation_data=validation_generator)"
      ],
      "metadata": {
        "id": "je74H2E-LMqu"
      },
      "execution_count": null,
      "outputs": []
    }
  ],
  "metadata": {
    "accelerator": "TPU",
    "colab": {
      "machine_shape": "hm",
      "provenance": [],
      "authorship_tag": "ABX9TyOCwSdvNJCLQkCGmpRYd6Ia",
      "include_colab_link": true
    },
    "kernelspec": {
      "display_name": "Python 3",
      "name": "python3"
    },
    "language_info": {
      "name": "python"
    }
  },
  "nbformat": 4,
  "nbformat_minor": 0
}