{
  "metadata": {
    "kernelspec": {
      "language": "python",
      "display_name": "Python 3",
      "name": "python3"
    },
    "language_info": {
      "pygments_lexer": "ipython3",
      "nbconvert_exporter": "python",
      "version": "3.6.4",
      "file_extension": ".py",
      "codemirror_mode": {
        "name": "ipython",
        "version": 3
      },
      "name": "python",
      "mimetype": "text/x-python"
    },
    "colab": {
      "provenance": [],
      "include_colab_link": true
    }
  },
  "nbformat_minor": 0,
  "nbformat": 4,
  "cells": [
    {
      "cell_type": "markdown",
      "metadata": {
        "id": "view-in-github",
        "colab_type": "text"
      },
      "source": [
        "<a href=\"https://colab.research.google.com/github/ALejandroCh17/Tennis-Ball-Robot/blob/daniel_branch/rally_rover_tennis_ball_detector.ipynb\" target=\"_parent\"><img src=\"https://colab.research.google.com/assets/colab-badge.svg\" alt=\"Open In Colab\"/></a>"
      ]
    },
    {
      "source": [],
      "metadata": {
        "id": "ohPE6OaA3mP9"
      },
      "cell_type": "code",
      "outputs": [],
      "execution_count": null
    },
    {
      "cell_type": "markdown",
      "source": [
        "# Tennis Ball Detection with Convolutional Neural Network"
      ],
      "metadata": {
        "id": "xpi-EV-53mP-"
      }
    },
    {
      "cell_type": "markdown",
      "source": [
        "## Importing modules"
      ],
      "metadata": {
        "id": "G-InN0L63mQA"
      }
    },
    {
      "cell_type": "code",
      "source": [
        "import numpy as np\n",
        "import matplotlib.pyplot as plt\n",
        "import pandas as pd\n",
        "import seaborn as sb\n",
        "from sklearn.model_selection import train_test_split\n",
        "from sklearn.metrics import confusion_matrix, classification_report\n",
        "from tensorflow.keras.models import Sequential\n",
        "from tensorflow.keras.layers import Dense, Conv2D, MaxPooling2D, Flatten, Dropout\n",
        "from tensorflow.keras.preprocessing.image import load_img, img_to_array\n",
        "import tensorflow as tf\n",
        "import os"
      ],
      "metadata": {
        "execution": {
          "iopub.status.busy": "2021-07-19T23:14:16.279059Z",
          "iopub.execute_input": "2021-07-19T23:14:16.279624Z",
          "iopub.status.idle": "2021-07-19T23:14:23.204158Z",
          "shell.execute_reply.started": "2021-07-19T23:14:16.279507Z",
          "shell.execute_reply": "2021-07-19T23:14:23.203062Z"
        },
        "trusted": true,
        "id": "TD71KAVv3mQA"
      },
      "execution_count": null,
      "outputs": []
    },
    {
      "cell_type": "markdown",
      "source": [
        "## Dataset"
      ],
      "metadata": {
        "id": "Vayz3Ttc3mQB"
      }
    },
    {
      "cell_type": "code",
      "source": [
        "# Showing ball image\n",
        "img = load_img('/kaggle/input/ballsemtpytt/test/balls/ball5.jpg', color_mode='rgb', target_size=(128,128))\n",
        "img_arr = img_to_array(img)\n",
        "plt.imshow(img)"
      ],
      "metadata": {
        "execution": {
          "iopub.status.busy": "2021-07-19T23:14:38.971693Z",
          "iopub.execute_input": "2021-07-19T23:14:38.972269Z",
          "iopub.status.idle": "2021-07-19T23:14:39.178005Z",
          "shell.execute_reply.started": "2021-07-19T23:14:38.972223Z",
          "shell.execute_reply": "2021-07-19T23:14:39.176999Z"
        },
        "trusted": true,
        "id": "haJ26tMm3mQB"
      },
      "execution_count": null,
      "outputs": []
    },
    {
      "cell_type": "code",
      "source": [
        "# Showing no ball image\n",
        "img = load_img('/kaggle/input/ballsemtpytt/test/empty/empty6.jpg', color_mode='rgb', target_size=(128,128))\n",
        "img_arr = img_to_array(img)\n",
        "plt.imshow(img)"
      ],
      "metadata": {
        "execution": {
          "iopub.status.busy": "2021-07-19T23:14:54.402582Z",
          "iopub.execute_input": "2021-07-19T23:14:54.403083Z",
          "iopub.status.idle": "2021-07-19T23:14:54.66321Z",
          "shell.execute_reply.started": "2021-07-19T23:14:54.403052Z",
          "shell.execute_reply": "2021-07-19T23:14:54.662166Z"
        },
        "trusted": true,
        "id": "N6XHROwj3mQB"
      },
      "execution_count": null,
      "outputs": []
    },
    {
      "cell_type": "code",
      "source": [
        "def load_images_from_folder(folder):\n",
        "    images = []\n",
        "    for filename in os.listdir(folder):\n",
        "        img = load_img(os.path.join(folder,filename), color_mode='rgb', target_size=(128, 128))\n",
        "        img_arr = img_to_array(img)\n",
        "        images.append(img_arr)\n",
        "    return images"
      ],
      "metadata": {
        "execution": {
          "iopub.status.busy": "2021-07-19T23:14:59.73832Z",
          "iopub.execute_input": "2021-07-19T23:14:59.73875Z",
          "iopub.status.idle": "2021-07-19T23:14:59.744283Z",
          "shell.execute_reply.started": "2021-07-19T23:14:59.738714Z",
          "shell.execute_reply": "2021-07-19T23:14:59.74329Z"
        },
        "trusted": true,
        "id": "IUwze1z-3mQB"
      },
      "execution_count": null,
      "outputs": []
    },
    {
      "cell_type": "code",
      "source": [
        "# Loading images\n",
        "x_train_balls = load_images_from_folder('/kaggle/input/ballsemtpytt/train/balls')\n",
        "x_train_empty = load_images_from_folder('/kaggle/input/ballsemtpytt/train/empty')\n",
        "\n",
        "y_train = np.concatenate( ( np.ones(len(x_train_balls)), np.zeros(len(x_train_empty))) )\n",
        "x_train = np.concatenate( (np.array(x_train_balls), np.array(x_train_empty) ) )\n",
        "\n",
        "x_test_balls = load_images_from_folder('/kaggle/input/ballsemtpytt/test/balls')\n",
        "x_test_empty = load_images_from_folder('/kaggle/input/ballsemtpytt/test/empty')\n",
        "\n",
        "y_test = np.concatenate( (np.ones(len(x_test_balls)), np.zeros(len(x_test_empty))) )\n",
        "x_test = np.concatenate( (np.array(x_test_balls), np.array(x_test_empty) ) )\n",
        "\n",
        "# Shuffling\n",
        "randomize_train = np.arange(len(y_train))\n",
        "np.random.shuffle(randomize_train)\n",
        "\n",
        "randomize_test = np.arange(len(y_test))\n",
        "np.random.shuffle(randomize_test)\n",
        "\n",
        "x_train = x_train[randomize_train]/255\n",
        "y_train = y_train[randomize_train]\n",
        "\n",
        "x_test = x_test[randomize_test]/255\n",
        "y_test = y_test[randomize_test]"
      ],
      "metadata": {
        "execution": {
          "iopub.status.busy": "2021-07-19T23:15:06.340102Z",
          "iopub.execute_input": "2021-07-19T23:15:06.340564Z",
          "iopub.status.idle": "2021-07-19T23:15:19.595311Z",
          "shell.execute_reply.started": "2021-07-19T23:15:06.340526Z",
          "shell.execute_reply": "2021-07-19T23:15:19.594254Z"
        },
        "trusted": true,
        "id": "FCxwwE3M3mQB"
      },
      "execution_count": null,
      "outputs": []
    },
    {
      "cell_type": "markdown",
      "source": [
        "## Model"
      ],
      "metadata": {
        "id": "GJVelntd3mQC"
      }
    },
    {
      "cell_type": "code",
      "source": [
        "model = Sequential()\n",
        "\n",
        "model.add(Conv2D(16, kernel_size=3, activation='relu', input_shape=(128,128,3)))\n",
        "model.add(MaxPooling2D(pool_size = (2,2)))\n",
        "model.add(Dropout(0.2))\n",
        "model.add(Conv2D(32, kernel_size=3, activation='relu'))\n",
        "model.add(MaxPooling2D(pool_size = (2,2)))\n",
        "model.add(Dropout(0.2))\n",
        "model.add(Conv2D(64, kernel_size=3, activation='relu'))\n",
        "model.add(MaxPooling2D(pool_size = (2,2)))\n",
        "model.add(Dropout(0.2))\n",
        "model.add(Flatten())\n",
        "model.add(Dense(units=20, activation='relu'))\n",
        "model.add(Dropout(0.2))\n",
        "model.add(Dense(units=5, activation='relu'))\n",
        "model.add(Dense(units=1, activation='sigmoid'))\n",
        "\n",
        "model.compile(loss='binary_crossentropy', optimizer='rmsprop', metrics = ['accuracy'])"
      ],
      "metadata": {
        "execution": {
          "iopub.status.busy": "2021-07-19T23:22:35.970236Z",
          "iopub.execute_input": "2021-07-19T23:22:35.970657Z",
          "iopub.status.idle": "2021-07-19T23:22:36.073298Z",
          "shell.execute_reply.started": "2021-07-19T23:22:35.970622Z",
          "shell.execute_reply": "2021-07-19T23:22:36.072267Z"
        },
        "trusted": true,
        "id": "yEJnJi2Q3mQC"
      },
      "execution_count": null,
      "outputs": []
    },
    {
      "cell_type": "markdown",
      "source": [
        "## Training model"
      ],
      "metadata": {
        "id": "4NHlTspB3mQC"
      }
    },
    {
      "cell_type": "code",
      "source": [
        "model.fit(x=x_train, y=y_train, validation_data=(x_test, y_test), epochs=50)"
      ],
      "metadata": {
        "execution": {
          "iopub.status.busy": "2021-07-19T23:22:40.173305Z",
          "iopub.execute_input": "2021-07-19T23:22:40.173669Z",
          "iopub.status.idle": "2021-07-19T23:28:16.357592Z",
          "shell.execute_reply.started": "2021-07-19T23:22:40.17364Z",
          "shell.execute_reply": "2021-07-19T23:28:16.356734Z"
        },
        "trusted": true,
        "id": "LJdN9h9L3mQC"
      },
      "execution_count": null,
      "outputs": []
    },
    {
      "cell_type": "markdown",
      "source": [
        "## History"
      ],
      "metadata": {
        "id": "7n8O4nUT3mQC"
      }
    },
    {
      "cell_type": "code",
      "source": [
        "history = pd.DataFrame(model.history.history)\n",
        "model_loss = history.drop(columns=['accuracy', 'val_accuracy'])\n",
        "model_accuracy = history.drop(columns=['loss', 'val_loss'])"
      ],
      "metadata": {
        "execution": {
          "iopub.status.busy": "2021-07-19T23:28:19.929493Z",
          "iopub.execute_input": "2021-07-19T23:28:19.930111Z",
          "iopub.status.idle": "2021-07-19T23:28:19.937605Z",
          "shell.execute_reply.started": "2021-07-19T23:28:19.930074Z",
          "shell.execute_reply": "2021-07-19T23:28:19.936849Z"
        },
        "trusted": true,
        "id": "kYz98LOA3mQD"
      },
      "execution_count": null,
      "outputs": []
    },
    {
      "cell_type": "code",
      "source": [
        "model_loss.plot()"
      ],
      "metadata": {
        "execution": {
          "iopub.status.busy": "2021-07-19T23:28:23.925996Z",
          "iopub.execute_input": "2021-07-19T23:28:23.926366Z",
          "iopub.status.idle": "2021-07-19T23:28:24.109687Z",
          "shell.execute_reply.started": "2021-07-19T23:28:23.926333Z",
          "shell.execute_reply": "2021-07-19T23:28:24.109024Z"
        },
        "trusted": true,
        "id": "lnGGuVJf3mQD"
      },
      "execution_count": null,
      "outputs": []
    },
    {
      "cell_type": "code",
      "source": [
        "model_accuracy.plot()"
      ],
      "metadata": {
        "execution": {
          "iopub.status.busy": "2021-07-19T23:28:29.371351Z",
          "iopub.execute_input": "2021-07-19T23:28:29.371862Z",
          "iopub.status.idle": "2021-07-19T23:28:29.551318Z",
          "shell.execute_reply.started": "2021-07-19T23:28:29.371828Z",
          "shell.execute_reply": "2021-07-19T23:28:29.550396Z"
        },
        "trusted": true,
        "id": "A273YF9l3mQD"
      },
      "execution_count": null,
      "outputs": []
    },
    {
      "cell_type": "markdown",
      "source": [
        "## Model evaluation"
      ],
      "metadata": {
        "id": "aXz0jSHS3mQD"
      }
    },
    {
      "cell_type": "code",
      "source": [
        "predictions = np.rint(model.predict(x_test))"
      ],
      "metadata": {
        "execution": {
          "iopub.status.busy": "2021-07-19T23:28:42.488731Z",
          "iopub.execute_input": "2021-07-19T23:28:42.489088Z",
          "iopub.status.idle": "2021-07-19T23:28:42.762473Z",
          "shell.execute_reply.started": "2021-07-19T23:28:42.489057Z",
          "shell.execute_reply": "2021-07-19T23:28:42.761329Z"
        },
        "trusted": true,
        "id": "0ctzRB2Y3mQD"
      },
      "execution_count": null,
      "outputs": []
    },
    {
      "cell_type": "code",
      "source": [
        "print( classification_report(y_test, predictions) )"
      ],
      "metadata": {
        "execution": {
          "iopub.status.busy": "2021-07-19T23:28:45.247268Z",
          "iopub.execute_input": "2021-07-19T23:28:45.247631Z",
          "iopub.status.idle": "2021-07-19T23:28:45.259462Z",
          "shell.execute_reply.started": "2021-07-19T23:28:45.247601Z",
          "shell.execute_reply": "2021-07-19T23:28:45.258341Z"
        },
        "trusted": true,
        "id": "96D0_ryb3mQD"
      },
      "execution_count": null,
      "outputs": []
    },
    {
      "cell_type": "code",
      "source": [
        "confusion_matrix(y_test, predictions)"
      ],
      "metadata": {
        "execution": {
          "iopub.status.busy": "2021-07-19T23:28:50.783403Z",
          "iopub.execute_input": "2021-07-19T23:28:50.783767Z",
          "iopub.status.idle": "2021-07-19T23:28:50.792243Z",
          "shell.execute_reply.started": "2021-07-19T23:28:50.783737Z",
          "shell.execute_reply": "2021-07-19T23:28:50.791171Z"
        },
        "trusted": true,
        "id": "26dA2k3S3mQD"
      },
      "execution_count": null,
      "outputs": []
    },
    {
      "cell_type": "code",
      "source": [
        "sample = 43\n",
        "plt.imshow(x_test[sample], cmap=plt.cm.gray_r)\n",
        "plt.title('prediction: ' + str(predictions[sample]) )"
      ],
      "metadata": {
        "execution": {
          "iopub.status.busy": "2021-07-19T23:29:02.013549Z",
          "iopub.execute_input": "2021-07-19T23:29:02.013928Z",
          "iopub.status.idle": "2021-07-19T23:29:02.222908Z",
          "shell.execute_reply.started": "2021-07-19T23:29:02.013894Z",
          "shell.execute_reply": "2021-07-19T23:29:02.221918Z"
        },
        "trusted": true,
        "id": "KSmnrTjr3mQD"
      },
      "execution_count": null,
      "outputs": []
    },
    {
      "cell_type": "markdown",
      "source": [
        "## Save model"
      ],
      "metadata": {
        "id": "a7OcuQi53mQD"
      }
    },
    {
      "cell_type": "code",
      "source": [
        "model.save('model.h5')"
      ],
      "metadata": {
        "execution": {
          "iopub.status.busy": "2021-07-19T23:29:14.770839Z",
          "iopub.execute_input": "2021-07-19T23:29:14.771278Z",
          "iopub.status.idle": "2021-07-19T23:29:14.810731Z",
          "shell.execute_reply.started": "2021-07-19T23:29:14.771238Z",
          "shell.execute_reply": "2021-07-19T23:29:14.809799Z"
        },
        "trusted": true,
        "id": "2so0NM9x3mQD"
      },
      "execution_count": null,
      "outputs": []
    },
    {
      "cell_type": "markdown",
      "source": [
        "## Load model"
      ],
      "metadata": {
        "id": "VCJ4vtq43mQE"
      }
    },
    {
      "cell_type": "code",
      "source": [
        "model = tf.keras.models.load_model('model.h5')"
      ],
      "metadata": {
        "execution": {
          "iopub.status.busy": "2021-07-19T23:29:17.885595Z",
          "iopub.execute_input": "2021-07-19T23:29:17.885981Z",
          "iopub.status.idle": "2021-07-19T23:29:18.017927Z",
          "shell.execute_reply.started": "2021-07-19T23:29:17.88594Z",
          "shell.execute_reply": "2021-07-19T23:29:18.016879Z"
        },
        "trusted": true,
        "id": "pHaYFlUc3mQE"
      },
      "execution_count": null,
      "outputs": []
    }
  ]
}