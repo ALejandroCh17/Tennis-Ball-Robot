{
  "nbformat": 4,
  "nbformat_minor": 0,
  "metadata": {
    "colab": {
      "provenance": [],
      "authorship_tag": "ABX9TyN6UsWpRT24t+MoIjWW+aKO",
      "include_colab_link": true
    },
    "kernelspec": {
      "name": "python3",
      "display_name": "Python 3"
    },
    "language_info": {
      "name": "python"
    }
  },
  "cells": [
    {
      "cell_type": "markdown",
      "metadata": {
        "id": "view-in-github",
        "colab_type": "text"
      },
      "source": [
        "<a href=\"https://colab.research.google.com/github/ALejandroCh17/Tennis-Ball-Robot/blob/daniel_branch/model2.ipynb\" target=\"_parent\"><img src=\"https://colab.research.google.com/assets/colab-badge.svg\" alt=\"Open In Colab\"/></a>"
      ]
    },
    {
      "cell_type": "code",
      "execution_count": 2,
      "metadata": {
        "colab": {
          "base_uri": "https://localhost:8080/"
        },
        "id": "ojyIuWRIhiyP",
        "outputId": "839b60ed-7902-4280-d36f-01500bf41853"
      },
      "outputs": [
        {
          "output_type": "stream",
          "name": "stdout",
          "text": [
            "Mounted at /content/drive\n"
          ]
        }
      ],
      "source": [
        "from google.colab import drive\n",
        "drive.mount('/content/drive')"
      ]
    },
    {
      "cell_type": "code",
      "source": [
        "!unzip \"/content/drive/My Drive/capstone_dataset_2/Tennis.v1i.yolov8.zip\" -d \"/content/drive/My Drive/capstone_dataset_3\""
      ],
      "metadata": {
        "id": "QE0aflbfl4rU"
      },
      "execution_count": null,
      "outputs": []
    },
    {
      "cell_type": "markdown",
      "source": [
        "#Import Dependencies"
      ],
      "metadata": {
        "id": "GofjgId8RstY"
      }
    },
    {
      "cell_type": "code",
      "source": [
        "import os"
      ],
      "metadata": {
        "id": "oaCF9woRRq67"
      },
      "execution_count": 4,
      "outputs": []
    },
    {
      "cell_type": "markdown",
      "source": [
        "#Load the Dataset\n"
      ],
      "metadata": {
        "id": "ffY7E6hUFDfY"
      }
    },
    {
      "cell_type": "code",
      "source": [
        "# Base directory where train, test, and valid folders are located\n",
        "base_dir = '/content/drive/My Drive/capstone_dataset_3'"
      ],
      "metadata": {
        "id": "3Y4iZecIRyU6"
      },
      "execution_count": 5,
      "outputs": []
    },
    {
      "cell_type": "code",
      "source": [
        "# Dictionary to hold data associations for each dataset split\n",
        "data_associations = {\n",
        "    'train': {},\n",
        "    'test': {},\n",
        "    'valid': {}\n",
        "}"
      ],
      "metadata": {
        "id": "aRQ6BE1yR5cf"
      },
      "execution_count": 6,
      "outputs": []
    },
    {
      "cell_type": "code",
      "source": [
        "# Function to associate images with labels within a specific folder\n",
        "def associate_images_with_labels(image_folder, label_folder):\n",
        "    associations = {}\n",
        "    for image_file in os.listdir(image_folder):\n",
        "        if image_file.endswith('.jpg'):  # Confirm it's an image file\n",
        "            # Construct the label filename by changing the extension\n",
        "            label_file = image_file.replace('.jpg', '.txt')\n",
        "            # Build the full path to the label file\n",
        "            label_file_path = os.path.join(label_folder, label_file)\n",
        "            # Check if the corresponding label file exists\n",
        "            if os.path.exists(label_file_path):\n",
        "                # Save the association\n",
        "                associations[image_file] = label_file\n",
        "            else:\n",
        "                print(f\"Warning: Label file for {image_file} not found.\")\n",
        "    return associations"
      ],
      "metadata": {
        "id": "MTH2TRugR7cC"
      },
      "execution_count": 7,
      "outputs": []
    },
    {
      "cell_type": "code",
      "source": [
        "# Iterate through each dataset split and populate data associations\n",
        "for split in ['train', 'test', 'valid']:\n",
        "    print(f\"Processing {split} data...\")\n",
        "    # Construct paths to the image and label folders for the current split\n",
        "    image_folder = os.path.join(base_dir, split, 'images')\n",
        "    label_folder = os.path.join(base_dir, split, 'labels')\n",
        "    # Perform association and save the results\n",
        "    data_associations[split] = associate_images_with_labels(image_folder, label_folder)"
      ],
      "metadata": {
        "id": "FllQ4tBFR-jn",
        "outputId": "a1c55685-5fb3-4624-9414-9206afabf337",
        "colab": {
          "base_uri": "https://localhost:8080/"
        }
      },
      "execution_count": 8,
      "outputs": [
        {
          "output_type": "stream",
          "name": "stdout",
          "text": [
            "Processing train data...\n",
            "Processing test data...\n",
            "Processing valid data...\n"
          ]
        }
      ]
    },
    {
      "cell_type": "markdown",
      "source": [
        "#Exploratory Data Analysis"
      ],
      "metadata": {
        "id": "JiG9FpPQFHrS"
      }
    },
    {
      "cell_type": "code",
      "source": [
        "print(len(data_associations['train']))\n",
        "print(len(data_associations['test']))\n",
        "print(len(data_associations['valid']))"
      ],
      "metadata": {
        "id": "_ehu0rEqXp86",
        "outputId": "dc372d7f-dc70-45aa-a763-4fa0d50f5352",
        "colab": {
          "base_uri": "https://localhost:8080/"
        }
      },
      "execution_count": 11,
      "outputs": [
        {
          "output_type": "stream",
          "name": "stdout",
          "text": [
            "2361\n",
            "120\n",
            "183\n"
          ]
        }
      ]
    },
    {
      "cell_type": "markdown",
      "source": [
        "Observation: Data split isn't even"
      ],
      "metadata": {
        "id": "R1Cu65n7Yzei"
      }
    },
    {
      "cell_type": "markdown",
      "source": [
        "#Data Preprocessing"
      ],
      "metadata": {
        "id": "uUSs58zRF9_N"
      }
    },
    {
      "cell_type": "markdown",
      "source": [
        "#Split the dataset"
      ],
      "metadata": {
        "id": "9uG12-wDGBIj"
      }
    },
    {
      "cell_type": "markdown",
      "source": [
        "#Model Architecture"
      ],
      "metadata": {
        "id": "dUbHkzMsIsXo"
      }
    }
  ]
}