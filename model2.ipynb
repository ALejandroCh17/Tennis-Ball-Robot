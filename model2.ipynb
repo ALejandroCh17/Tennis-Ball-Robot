{
  "nbformat": 4,
  "nbformat_minor": 0,
  "metadata": {
    "colab": {
      "provenance": [],
      "authorship_tag": "ABX9TyM9vUKzMqEQKEZnb3SmpP7Q",
      "include_colab_link": true
    },
    "kernelspec": {
      "name": "python3",
      "display_name": "Python 3"
    },
    "language_info": {
      "name": "python"
    }
  },
  "cells": [
    {
      "cell_type": "markdown",
      "metadata": {
        "id": "view-in-github",
        "colab_type": "text"
      },
      "source": [
        "<a href=\"https://colab.research.google.com/github/ALejandroCh17/Tennis-Ball-Robot/blob/daniel_branch/model2.ipynb\" target=\"_parent\"><img src=\"https://colab.research.google.com/assets/colab-badge.svg\" alt=\"Open In Colab\"/></a>"
      ]
    },
    {
      "cell_type": "code",
      "execution_count": 2,
      "metadata": {
        "colab": {
          "base_uri": "https://localhost:8080/"
        },
        "id": "ojyIuWRIhiyP",
        "outputId": "839b60ed-7902-4280-d36f-01500bf41853"
      },
      "outputs": [
        {
          "output_type": "stream",
          "name": "stdout",
          "text": [
            "Mounted at /content/drive\n"
          ]
        }
      ],
      "source": [
        "from google.colab import drive\n",
        "drive.mount('/content/drive')"
      ]
    },
    {
      "cell_type": "code",
      "source": [
        "!unzip \"/content/drive/My Drive/capstone_dataset_2/Tennis.v1i.yolov8.zip\" -d \"/content/drive/My Drive/capstone_dataset_3\""
      ],
      "metadata": {
        "id": "QE0aflbfl4rU"
      },
      "execution_count": null,
      "outputs": []
    },
    {
      "cell_type": "markdown",
      "source": [
        "#Import Dependencies"
      ],
      "metadata": {
        "id": "GofjgId8RstY"
      }
    },
    {
      "cell_type": "code",
      "source": [
        "import os\n",
        "from PIL import Image\n",
        "import tensorflow as tf"
      ],
      "metadata": {
        "id": "oaCF9woRRq67"
      },
      "execution_count": 27,
      "outputs": []
    },
    {
      "cell_type": "markdown",
      "source": [
        "#Load the Dataset\n"
      ],
      "metadata": {
        "id": "ffY7E6hUFDfY"
      }
    },
    {
      "cell_type": "code",
      "source": [
        "# Base directory where train, test, and valid folders are located\n",
        "base_dir = '/content/drive/My Drive/capstone_dataset_3'\n",
        "\n",
        "image_folders = ['train/images', 'test/images', 'valid/images']\n",
        "label_folders = ['train/labels', 'test/labels', 'valid/labels']"
      ],
      "metadata": {
        "id": "3Y4iZecIRyU6"
      },
      "execution_count": 25,
      "outputs": []
    },
    {
      "cell_type": "code",
      "source": [
        "# Dictionary to hold data associations for each dataset split\n",
        "data_associations = {\n",
        "    'train': {},\n",
        "    'test': {},\n",
        "    'valid': {}\n",
        "}"
      ],
      "metadata": {
        "id": "aRQ6BE1yR5cf"
      },
      "execution_count": 6,
      "outputs": []
    },
    {
      "cell_type": "code",
      "source": [
        "# Function to associate images with labels within a specific folder\n",
        "def associate_images_with_labels(image_folder, label_folder):\n",
        "    associations = {}\n",
        "    for image_file in os.listdir(image_folder):\n",
        "        if image_file.endswith('.jpg'):  # Confirm it's an image file\n",
        "            # Construct the label filename by changing the extension\n",
        "            label_file = image_file.replace('.jpg', '.txt')\n",
        "            # Build the full path to the label file\n",
        "            label_file_path = os.path.join(label_folder, label_file)\n",
        "            # Check if the corresponding label file exists\n",
        "            if os.path.exists(label_file_path):\n",
        "                # Save the association\n",
        "                associations[image_file] = label_file\n",
        "            else:\n",
        "                print(f\"Warning: Label file for {image_file} not found.\")\n",
        "    return associations"
      ],
      "metadata": {
        "id": "MTH2TRugR7cC"
      },
      "execution_count": 7,
      "outputs": []
    },
    {
      "cell_type": "code",
      "source": [
        "# Iterate through each dataset split and populate data associations\n",
        "for split in ['train', 'test', 'valid']:\n",
        "    print(f\"Processing {split} data...\")\n",
        "    # Construct paths to the image and label folders for the current split\n",
        "    image_folder = os.path.join(base_dir, split, 'images')\n",
        "    label_folder = os.path.join(base_dir, split, 'labels')\n",
        "    # Perform association and save the results\n",
        "    data_associations[split] = associate_images_with_labels(image_folder, label_folder)"
      ],
      "metadata": {
        "colab": {
          "base_uri": "https://localhost:8080/"
        },
        "id": "FllQ4tBFR-jn",
        "outputId": "a1c55685-5fb3-4624-9414-9206afabf337"
      },
      "execution_count": 8,
      "outputs": [
        {
          "output_type": "stream",
          "name": "stdout",
          "text": [
            "Processing train data...\n",
            "Processing test data...\n",
            "Processing valid data...\n"
          ]
        }
      ]
    },
    {
      "cell_type": "markdown",
      "source": [
        "#Exploratory Data Analysis"
      ],
      "metadata": {
        "id": "JiG9FpPQFHrS"
      }
    },
    {
      "cell_type": "code",
      "source": [
        "print(len(data_associations['train']))\n",
        "print(len(data_associations['test']))\n",
        "print(len(data_associations['valid']))"
      ],
      "metadata": {
        "colab": {
          "base_uri": "https://localhost:8080/"
        },
        "id": "_ehu0rEqXp86",
        "outputId": "dc372d7f-dc70-45aa-a763-4fa0d50f5352"
      },
      "execution_count": 11,
      "outputs": [
        {
          "output_type": "stream",
          "name": "stdout",
          "text": [
            "2361\n",
            "120\n",
            "183\n"
          ]
        }
      ]
    },
    {
      "cell_type": "markdown",
      "source": [
        "Observation: Data split isn't even"
      ],
      "metadata": {
        "id": "R1Cu65n7Yzei"
      }
    },
    {
      "cell_type": "code",
      "source": [
        "def get_image_dimensions(image_folder):\n",
        "    dimensions = set()  # Initialize an empty set to store unique dimensions\n",
        "    for image_filename in os.listdir(image_folder):\n",
        "        if image_filename.lower().endswith(('.png', '.jpg', '.jpeg')):  # Check for image file extensions\n",
        "            image_path = os.path.join(image_folder, image_filename)\n",
        "            with Image.open(image_path) as img:\n",
        "                dimensions.add(img.size)  # Add the image size to the set\n",
        "    return dimensions  # Return the set of unique dimensions"
      ],
      "metadata": {
        "id": "xUVAKRW0aioQ"
      },
      "execution_count": 21,
      "outputs": []
    },
    {
      "cell_type": "code",
      "source": [
        "# Function to check if all images share the same dimensions across all folders\n",
        "def check_shared_dimensions(base_dir, image_folders):\n",
        "    shared_dimensions = None\n",
        "    for folder in image_folders:\n",
        "        folder_path = os.path.join(base_dir, folder)\n",
        "        dims = get_image_dimensions(folder_path)\n",
        "        if shared_dimensions is None:\n",
        "            shared_dimensions = dims  # Set the initial shared dimensions\n",
        "        else:\n",
        "            # Ensure shared_dimensions is a set before intersection\n",
        "            shared_dimensions = shared_dimensions.intersection(dims)\n",
        "            # Break if there are no common dimensions\n",
        "            if not shared_dimensions:\n",
        "                break\n",
        "    return shared_dimensions"
      ],
      "metadata": {
        "id": "7b6ujLGBayM-"
      },
      "execution_count": 22,
      "outputs": []
    },
    {
      "cell_type": "code",
      "source": [
        "# Use the function to check for shared dimensions\n",
        "shared_dims = check_shared_dimensions(base_dir, image_folders)\n",
        "if shared_dims and len(shared_dims) == 1:\n",
        "    shared_dim = shared_dims.pop()  # Get the single shared dimension\n",
        "    print(f\"All images share the same dimensions: {shared_dim}\")\n",
        "else:\n",
        "    print(\"Not all images share the same dimensions.\")"
      ],
      "metadata": {
        "id": "aSFR97sfbas7",
        "outputId": "4fea4281-8f68-49dc-ed16-8098e9c9736b",
        "colab": {
          "base_uri": "https://localhost:8080/"
        }
      },
      "execution_count": 23,
      "outputs": [
        {
          "output_type": "stream",
          "name": "stdout",
          "text": [
            "All images share the same dimensions: (640, 640)\n"
          ]
        }
      ]
    },
    {
      "cell_type": "markdown",
      "source": [
        "Observation: All images share the same dimensions."
      ],
      "metadata": {
        "id": "9Plbfsz8dXkt"
      }
    },
    {
      "cell_type": "code",
      "source": [
        "import matplotlib.pyplot as plt\n",
        "from collections import Counter\n",
        "\n",
        "# Function to count the occurrence of each label\n",
        "def count_labels(label_folder):\n",
        "    label_counts = Counter()\n",
        "    for label_file in os.listdir(label_folder):\n",
        "        label_path = os.path.join(label_folder, label_file)\n",
        "        with open(label_path, 'r') as file:\n",
        "            for line in file:\n",
        "                class_id = line.split()[0]  # Assuming class_id is the first element\n",
        "                label_counts[class_id] += 1\n",
        "    return label_counts\n",
        "\n",
        "# Aggregate label counts for all label folders\n",
        "total_label_counts = Counter()\n",
        "for folder in label_folders:\n",
        "    folder_path = os.path.join(base_dir, folder)\n",
        "    total_label_counts.update(count_labels(folder_path))\n",
        "\n",
        "# Sorting the label counts dictionary for consistent plotting\n",
        "sorted_label_counts = dict(sorted(total_label_counts.items()))\n",
        "\n",
        "# Plotting the label distribution\n",
        "plt.bar(sorted_label_counts.keys(), sorted_label_counts.values())\n",
        "plt.xlabel('Class ID')\n",
        "plt.ylabel('Frequency')\n",
        "plt.title('Label Distribution Across Dataset')\n",
        "plt.show()"
      ],
      "metadata": {
        "id": "IUdGGIINdbTT",
        "outputId": "9e1b66bf-22c9-4c59-da11-83165707dd05",
        "colab": {
          "base_uri": "https://localhost:8080/",
          "height": 472
        }
      },
      "execution_count": 26,
      "outputs": [
        {
          "output_type": "display_data",
          "data": {
            "text/plain": [
              "<Figure size 640x480 with 1 Axes>"
            ],
            "image/png": "[encoded data removed]"
          },
          "metadata": {}
        }
      ]
    },
    {
      "cell_type": "markdown",
      "source": [
        "Observation: Falls in line with approach. Our approach is training a model specifically to detect balls and to discern between scenes with and without balls."
      ],
      "metadata": {
        "id": "mQyJL2aQj9kC"
      }
    },
    {
      "cell_type": "markdown",
      "source": [
        "#Data Preprocessing"
      ],
      "metadata": {
        "id": "uUSs58zRF9_N"
      }
    },
    {
      "cell_type": "markdown",
      "source": [
        "#Split the dataset"
      ],
      "metadata": {
        "id": "9uG12-wDGBIj"
      }
    },
    {
      "cell_type": "code",
      "source": [
        "def get_file_paths(base_dir, image_folders, label_folders):\n",
        "    image_paths = []\n",
        "    label_paths = []\n",
        "\n",
        "    for img_folder, lbl_folder in zip(image_folders, label_folders):\n",
        "        img_dir = os.path.join(base_dir, img_folder)\n",
        "        lbl_dir = os.path.join(base_dir, lbl_folder)\n",
        "\n",
        "        # Assuming filenames without extensions match between images and labels\n",
        "        img_files = [os.path.join(img_dir, f) for f in os.listdir(img_dir) if f.endswith(('.png', '.jpg', '.jpeg'))]\n",
        "        lbl_files = [os.path.join(lbl_dir, f.replace('.png', '.txt').replace('.jpg', '.txt').replace('.jpeg', '.txt')) for f in os.listdir(img_dir) if f.endswith(('.png', '.jpg', '.jpeg'))]\n",
        "\n",
        "        image_paths.extend(img_files)\n",
        "        label_paths.extend(lbl_files)\n",
        "\n",
        "    return image_paths, label_paths\n",
        "\n",
        "# Base directory where train, test, and valid folders are located\n",
        "base_dir = '/content/drive/My Drive/capstone_dataset_3'\n",
        "\n",
        "# Define your image and label folders\n",
        "image_folders = ['train/images', 'test/images', 'valid/images']\n",
        "label_folders = ['train/labels', 'test/labels', 'valid/labels']\n",
        "\n",
        "# Get all file paths\n",
        "image_paths, label_paths = get_file_paths(base_dir, image_folders, label_folders)\n"
      ],
      "metadata": {
        "id": "vbmVJjpfoF3e"
      },
      "execution_count": 28,
      "outputs": []
    },
    {
      "cell_type": "code",
      "source": [
        "# Create a TensorFlow dataset from paths and labels\n",
        "dataset = tf.data.Dataset.from_tensor_slices((image_paths, label_paths))"
      ],
      "metadata": {
        "id": "K50uHhCQpslS"
      },
      "execution_count": 32,
      "outputs": []
    },
    {
      "cell_type": "code",
      "source": [
        "def load_and_preprocess_image(image_path, label):\n",
        "    image = tf.io.read_file(image_path)\n",
        "    image = tf.image.decode_jpeg(image, channels=3)\n",
        "    image = tf.image.resize(image, [256, 256])\n",
        "    image /= 255.0  # Normalize to [0,1]\n",
        "    label = tf.strings.to_number(label, out_type=tf.int32)  # Convert labels to integers\n",
        "    return image, label"
      ],
      "metadata": {
        "id": "BtFTfO38phlZ"
      },
      "execution_count": 42,
      "outputs": []
    },
    {
      "cell_type": "code",
      "source": [
        "dataset = dataset.map(load_and_preprocess_image)"
      ],
      "metadata": {
        "id": "eEbuxTZjpkyZ"
      },
      "execution_count": 33,
      "outputs": []
    },
    {
      "cell_type": "code",
      "source": [
        "# Define sizes of each dataset split\n",
        "total_size = len(dataset)\n",
        "train_size = int(0.7 * total_size)\n",
        "val_size = int(0.2 * total_size)\n",
        "test_size = total_size - train_size - val_size\n",
        "\n",
        "# Split the dataset correctly\n",
        "train_dataset = dataset.take(train_size)\n",
        "\n",
        "# Skip over the training dataset to start the validation dataset\n",
        "remaining_dataset = dataset.skip(train_size)\n",
        "val_dataset = remaining_dataset.take(val_size)\n",
        "\n",
        "# Skip over the validation dataset to get the testing dataset\n",
        "test_dataset = remaining_dataset.skip(val_size)"
      ],
      "metadata": {
        "id": "6awqfOfWp2ay"
      },
      "execution_count": 35,
      "outputs": []
    },
    {
      "cell_type": "markdown",
      "source": [
        "#Model Architecture"
      ],
      "metadata": {
        "id": "dUbHkzMsIsXo"
      }
    },
    {
      "cell_type": "code",
      "source": [
        "import tensorflow as tf\n",
        "from tensorflow.keras import layers, models\n",
        "\n",
        "def create_model():\n",
        "    model = models.Sequential([\n",
        "        layers.Conv2D(32, (3, 3), activation='relu', input_shape=(256, 256, 3)),\n",
        "        layers.MaxPooling2D((2, 2)),\n",
        "        layers.Conv2D(64, (3, 3), activation='relu'),\n",
        "        layers.MaxPooling2D((2, 2)),\n",
        "        layers.Conv2D(64, (3, 3), activation='relu'),\n",
        "        layers.Flatten(),\n",
        "        layers.Dense(64, activation='relu'),\n",
        "        layers.Dense(1, activation='sigmoid')  # Use 'softmax' for multi-class classification\n",
        "    ])\n",
        "    model.compile(optimizer='adam',\n",
        "                  loss='binary_crossentropy',  # Use 'categorical_crossentropy' for multi-class classification\n",
        "                  metrics=['accuracy'])\n",
        "    return model\n"
      ],
      "metadata": {
        "id": "iTHABtG6q3ks"
      },
      "execution_count": 36,
      "outputs": []
    },
    {
      "cell_type": "code",
      "source": [
        "model = create_model()\n",
        "model.summary()"
      ],
      "metadata": {
        "id": "YKPPN8Taq9IE",
        "outputId": "ec80c1c2-5cbd-4c9b-d91c-88e47e929a2f",
        "colab": {
          "base_uri": "https://localhost:8080/"
        }
      },
      "execution_count": 37,
      "outputs": [
        {
          "output_type": "stream",
          "name": "stdout",
          "text": [
            "Model: \"sequential\"\n",
            "_________________________________________________________________\n",
            " Layer (type)                Output Shape              Param #   \n",
            "=================================================================\n",
            " conv2d (Conv2D)             (None, 254, 254, 32)      896       \n",
            "                                                                 \n",
            " max_pooling2d (MaxPooling2  (None, 127, 127, 32)      0         \n",
            " D)                                                              \n",
            "                                                                 \n",
            " conv2d_1 (Conv2D)           (None, 125, 125, 64)      18496     \n",
            "                                                                 \n",
            " max_pooling2d_1 (MaxPoolin  (None, 62, 62, 64)        0         \n",
            " g2D)                                                            \n",
            "                                                                 \n",
            " conv2d_2 (Conv2D)           (None, 60, 60, 64)        36928     \n",
            "                                                                 \n",
            " flatten (Flatten)           (None, 230400)            0         \n",
            "                                                                 \n",
            " dense (Dense)               (None, 64)                14745664  \n",
            "                                                                 \n",
            " dense_1 (Dense)             (None, 1)                 65        \n",
            "                                                                 \n",
            "=================================================================\n",
            "Total params: 14802049 (56.47 MB)\n",
            "Trainable params: 14802049 (56.47 MB)\n",
            "Non-trainable params: 0 (0.00 Byte)\n",
            "_________________________________________________________________\n"
          ]
        }
      ]
    },
    {
      "cell_type": "code",
      "source": [
        "checkpoint_path = \"training_1/cp-{epoch:04d}.ckpt\"\n",
        "checkpoint_dir = os.path.dirname(checkpoint_path)\n",
        "\n",
        "# Create a callback that saves the model's weights\n",
        "cp_callback = tf.keras.callbacks.ModelCheckpoint(filepath=checkpoint_path,\n",
        "                                                 save_weights_only=True,\n",
        "                                                 verbose=1,\n",
        "                                                 save_freq='epoch')\n",
        "\n",
        "# This may generate warnings related to saving the state of the optimizer.\n",
        "# These warnings (and similar warnings throughout this notebook)\n",
        "# are in place to discourage outdated usage, and can be ignored."
      ],
      "metadata": {
        "id": "tRFq9RDmrGiv"
      },
      "execution_count": 38,
      "outputs": []
    },
    {
      "cell_type": "code",
      "source": [
        "BATCH_SIZE = 32\n",
        "\n",
        "train_dataset = train_dataset.batch(BATCH_SIZE)\n",
        "val_dataset = val_dataset.batch(BATCH_SIZE)\n",
        "test_dataset = test_dataset.batch(BATCH_SIZE)\n",
        "\n",
        "# Additionally, ensure your datasets are prefetched for optimal performance\n",
        "train_dataset = train_dataset.prefetch(buffer_size=tf.data.AUTOTUNE)\n",
        "val_dataset = val_dataset.prefetch(buffer_size=tf.data.AUTOTUNE)\n",
        "test_dataset = test_dataset.prefetch(buffer_size=tf.data.AUTOTUNE)"
      ],
      "metadata": {
        "id": "SZGWEfZYrlmY"
      },
      "execution_count": 40,
      "outputs": []
    },
    {
      "cell_type": "code",
      "source": [
        "EPOCHS = 10\n",
        "history = model.fit(\n",
        "    train_dataset,\n",
        "    epochs=EPOCHS,\n",
        "    validation_data=val_dataset,\n",
        "    callbacks=[cp_callback]\n",
        ")"
      ],
      "metadata": {
        "id": "l3oih0yXrJnZ",
        "outputId": "559388be-acec-495f-f194-770b461a287f",
        "colab": {
          "base_uri": "https://localhost:8080/",
          "height": 443
        }
      },
      "execution_count": 43,
      "outputs": [
        {
          "output_type": "stream",
          "name": "stdout",
          "text": [
            "Epoch 1/10\n",
            "53/59 [=========================>....] - ETA: 0s"
          ]
        },
        {
          "output_type": "error",
          "ename": "ValueError",
          "evalue": "Unexpected result of `train_function` (Empty logs). This could be due to issues in input pipeline that resulted in an empty dataset. Otherwise, please use `Model.compile(..., run_eagerly=True)`, or `tf.config.run_functions_eagerly(True)` for more information of where went wrong, or file a issue/bug to `tf.keras`.",
          "traceback": [
            "\u001b[0;31m---------------------------------------------------------------------------\u001b[0m",
            "\u001b[0;31mValueError\u001b[0m                                Traceback (most recent call last)",
            "\u001b[0;32m<ipython-input-43-b0b3bf706781>\u001b[0m in \u001b[0;36m<cell line: 2>\u001b[0;34m()\u001b[0m\n\u001b[1;32m      1\u001b[0m \u001b[0mEPOCHS\u001b[0m \u001b[0;34m=\u001b[0m \u001b[0;36m10\u001b[0m\u001b[0;34m\u001b[0m\u001b[0;34m\u001b[0m\u001b[0m\n\u001b[0;32m----> 2\u001b[0;31m history = model.fit(\n\u001b[0m\u001b[1;32m      3\u001b[0m     \u001b[0mtrain_dataset\u001b[0m\u001b[0;34m,\u001b[0m\u001b[0;34m\u001b[0m\u001b[0;34m\u001b[0m\u001b[0m\n\u001b[1;32m      4\u001b[0m     \u001b[0mepochs\u001b[0m\u001b[0;34m=\u001b[0m\u001b[0mEPOCHS\u001b[0m\u001b[0;34m,\u001b[0m\u001b[0;34m\u001b[0m\u001b[0;34m\u001b[0m\u001b[0m\n\u001b[1;32m      5\u001b[0m     \u001b[0mvalidation_data\u001b[0m\u001b[0;34m=\u001b[0m\u001b[0mval_dataset\u001b[0m\u001b[0;34m,\u001b[0m\u001b[0;34m\u001b[0m\u001b[0;34m\u001b[0m\u001b[0m\n",
            "\u001b[0;32m/usr/local/lib/python3.10/dist-packages/keras/src/utils/traceback_utils.py\u001b[0m in \u001b[0;36merror_handler\u001b[0;34m(*args, **kwargs)\u001b[0m\n\u001b[1;32m     68\u001b[0m             \u001b[0;31m# To get the full stack trace, call:\u001b[0m\u001b[0;34m\u001b[0m\u001b[0;34m\u001b[0m\u001b[0m\n\u001b[1;32m     69\u001b[0m             \u001b[0;31m# `tf.debugging.disable_traceback_filtering()`\u001b[0m\u001b[0;34m\u001b[0m\u001b[0;34m\u001b[0m\u001b[0m\n\u001b[0;32m---> 70\u001b[0;31m             \u001b[0;32mraise\u001b[0m \u001b[0me\u001b[0m\u001b[0;34m.\u001b[0m\u001b[0mwith_traceback\u001b[0m\u001b[0;34m(\u001b[0m\u001b[0mfiltered_tb\u001b[0m\u001b[0;34m)\u001b[0m \u001b[0;32mfrom\u001b[0m \u001b[0;32mNone\u001b[0m\u001b[0;34m\u001b[0m\u001b[0;34m\u001b[0m\u001b[0m\n\u001b[0m\u001b[1;32m     71\u001b[0m         \u001b[0;32mfinally\u001b[0m\u001b[0;34m:\u001b[0m\u001b[0;34m\u001b[0m\u001b[0;34m\u001b[0m\u001b[0m\n\u001b[1;32m     72\u001b[0m             \u001b[0;32mdel\u001b[0m \u001b[0mfiltered_tb\u001b[0m\u001b[0;34m\u001b[0m\u001b[0;34m\u001b[0m\u001b[0m\n",
            "\u001b[0;32m/usr/local/lib/python3.10/dist-packages/keras/src/engine/training.py\u001b[0m in \u001b[0;36mfit\u001b[0;34m(self, x, y, batch_size, epochs, verbose, callbacks, validation_split, validation_data, shuffle, class_weight, sample_weight, initial_epoch, steps_per_epoch, validation_steps, validation_batch_size, validation_freq, max_queue_size, workers, use_multiprocessing)\u001b[0m\n\u001b[1;32m   1817\u001b[0m                 \u001b[0mlogs\u001b[0m \u001b[0;34m=\u001b[0m \u001b[0mtf_utils\u001b[0m\u001b[0;34m.\u001b[0m\u001b[0msync_to_numpy_or_python_type\u001b[0m\u001b[0;34m(\u001b[0m\u001b[0mlogs\u001b[0m\u001b[0;34m)\u001b[0m\u001b[0;34m\u001b[0m\u001b[0;34m\u001b[0m\u001b[0m\n\u001b[1;32m   1818\u001b[0m                 \u001b[0;32mif\u001b[0m \u001b[0mlogs\u001b[0m \u001b[0;32mis\u001b[0m \u001b[0;32mNone\u001b[0m\u001b[0;34m:\u001b[0m\u001b[0;34m\u001b[0m\u001b[0;34m\u001b[0m\u001b[0m\n\u001b[0;32m-> 1819\u001b[0;31m                     raise ValueError(\n\u001b[0m\u001b[1;32m   1820\u001b[0m                         \u001b[0;34m\"Unexpected result of `train_function` \"\u001b[0m\u001b[0;34m\u001b[0m\u001b[0;34m\u001b[0m\u001b[0m\n\u001b[1;32m   1821\u001b[0m                         \u001b[0;34m\"(Empty logs). This could be due to issues in input \"\u001b[0m\u001b[0;34m\u001b[0m\u001b[0;34m\u001b[0m\u001b[0m\n",
            "\u001b[0;31mValueError\u001b[0m: Unexpected result of `train_function` (Empty logs). This could be due to issues in input pipeline that resulted in an empty dataset. Otherwise, please use `Model.compile(..., run_eagerly=True)`, or `tf.config.run_functions_eagerly(True)` for more information of where went wrong, or file a issue/bug to `tf.keras`."
          ]
        }
      ]
    },
    {
      "cell_type": "code",
      "source": [
        "test_loss, test_acc = model.evaluate(test_dataset, verbose=2)\n",
        "print('\\nTest accuracy:', test_acc)"
      ],
      "metadata": {
        "id": "4g8_ZCTbrW8c"
      },
      "execution_count": null,
      "outputs": []
    }
  ]
}