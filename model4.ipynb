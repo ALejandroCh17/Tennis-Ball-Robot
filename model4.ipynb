{
  "nbformat": 4,
  "nbformat_minor": 0,
  "metadata": {
    "colab": {
      "provenance": [],
      "machine_shape": "hm",
      "gpuType": "A100",
      "authorship_tag": "ABX9TyPYP/QKLjwI5ZLTWm9cynzU",
      "include_colab_link": true
    },
    "kernelspec": {
      "name": "python3",
      "display_name": "Python 3"
    },
    "language_info": {
      "name": "python"
    },
    "accelerator": "GPU"
  },
  "cells": [
    {
      "cell_type": "markdown",
      "metadata": {
        "id": "view-in-github",
        "colab_type": "text"
      },
      "source": [
        "<a href=\"https://colab.research.google.com/github/ALejandroCh17/Tennis-Ball-Robot/blob/daniel_branch/model4.ipynb\" target=\"_parent\"><img src=\"https://colab.research.google.com/assets/colab-badge.svg\" alt=\"Open In Colab\"/></a>"
      ]
    },
    {
      "cell_type": "markdown",
      "source": [
        "#stay alive cell"
      ],
      "metadata": {
        "id": "IH8yHKqxGrMj"
      }
    },
    {
      "cell_type": "code",
      "source": [
        "from IPython.display import display, HTML, Javascript\n",
        "\n",
        "def show_alert(message):\n",
        "    display(Javascript(f'alert(\"{message}\")'))\n",
        "\n",
        "# Call the function with your message\n",
        "show_alert(\"STAY ALIVE\")\n"
      ],
      "metadata": {
        "colab": {
          "base_uri": "https://localhost:8080/",
          "height": 17
        },
        "id": "kQXoAAEfGotg",
        "outputId": "5a347ad4-b071-41b9-b187-f8c8a5e78b46"
      },
      "execution_count": 56,
      "outputs": [
        {
          "output_type": "display_data",
          "data": {
            "text/plain": [
              "<IPython.core.display.Javascript object>"
            ],
            "application/javascript": [
              "alert(\"STAY ALIVE\")"
            ]
          },
          "metadata": {}
        }
      ]
    },
    {
      "cell_type": "markdown",
      "source": [
        "#stay alive second cell"
      ],
      "metadata": {
        "id": "Z0ZPnQBMGuwh"
      }
    },
    {
      "cell_type": "code",
      "execution_count": 1,
      "metadata": {
        "colab": {
          "base_uri": "https://localhost:8080/"
        },
        "id": "YRh52dC5Qu9s",
        "outputId": "9dc26571-a37f-4451-8cc0-d1452868d1bc"
      },
      "outputs": [
        {
          "output_type": "stream",
          "name": "stdout",
          "text": [
            "Mounted at /content/drive\n"
          ]
        }
      ],
      "source": [
        "from google.colab import drive\n",
        "drive.mount('/content/drive')"
      ]
    },
    {
      "cell_type": "code",
      "source": [
        "\"\"\"\n",
        "class_noBall_dir = '/content/drive/My Drive/202404_b/class_noBall'\n",
        "class_yesBall_dir = '/content/drive/My Drive/202404_b/class_yesBall'\n",
        "usu_noBall_dir = '/content/drive/My Drive/202404_b/usu_noBall'\n",
        "usu_yesBall_dir = '/content/drive/My Drive/202404_b/usu_yesBall'\n",
        "\"\"\""
      ],
      "metadata": {
        "id": "QvdUNvwiRZvc"
      },
      "execution_count": 5,
      "outputs": []
    },
    {
      "cell_type": "code",
      "source": [
        "\"\"\"\n",
        "import os\n",
        "\n",
        "num_files_class_noBall = len(os.listdir(class_noBall_dir))\n",
        "num_files_class_Ball = len(os.listdir(class_yesBall_dir))\n",
        "num_files_usu_noBall = len(os.listdir(usu_noBall_dir))\n",
        "num_files_usu_Ball = len(os.listdir(usu_yesBall_dir))\n",
        "\n",
        "print(f'Number of files in class_noBall_dir: {num_files_class_noBall}')\n",
        "print(f'Number of files in class_yesBall_dir: {num_files_class_Ball}')\n",
        "print(f'Number of files in usu_noBall_dir: {num_files_usu_noBall}')\n",
        "print(f'Number of files in usu_yesBall_dir: {num_files_usu_Ball}')\n",
        "\"\"\""
      ],
      "metadata": {
        "colab": {
          "base_uri": "https://localhost:8080/"
        },
        "id": "SFHX6GxsR6QO",
        "outputId": "a0dafc97-749f-4752-ce74-2b758fddefe4"
      },
      "execution_count": 6,
      "outputs": [
        {
          "output_type": "stream",
          "name": "stdout",
          "text": [
            "Number of files in class_noBall_dir: 998\n",
            "Number of files in class_yesBall_dir: 998\n",
            "Number of files in usu_noBall_dir: 998\n",
            "Number of files in usu_yesBall_dir: 998\n"
          ]
        }
      ]
    },
    {
      "cell_type": "code",
      "source": [
        "import os\n",
        "import shutil\n",
        "import random\n",
        "\"\"\"\n",
        "# Define the source directories\n",
        "source_dirs = {\n",
        "    'yesBall': [\n",
        "        '/content/drive/My Drive/202404_b/class_yesBall',\n",
        "        '/content/drive/My Drive/202404_b/usu_yesBall'\n",
        "    ],\n",
        "    'noBall': [\n",
        "        '/content/drive/My Drive/202404_b/class_noBall',\n",
        "        '/content/drive/My Drive/202404_b/usu_noBall'\n",
        "    ]\n",
        "}\n",
        "\n",
        "# Define the new directory structure\n",
        "base_dir = '/content/drive/My Drive/202404_b'\n",
        "train_dir = os.path.join(base_dir, 'train_set')\n",
        "test_dir = os.path.join(base_dir, 'test_set')\n",
        "\n",
        "# Create train and test directories\n",
        "os.makedirs(train_dir, exist_ok=True)\n",
        "os.makedirs(test_dir, exist_ok=True)\n",
        "\n",
        "# Prepare function to process folders\n",
        "def prepare_folders(class_type, train_count, test_count):\n",
        "    # Prepare training and testing folders\n",
        "    train_class_dir = os.path.join(train_dir, class_type)\n",
        "    test_class_dir = os.path.join(test_dir, class_type)\n",
        "    os.makedirs(train_class_dir, exist_ok=True)\n",
        "    os.makedirs(test_class_dir, exist_ok=True)\n",
        "\n",
        "    all_files = []\n",
        "    # Aggregate files from both source directories\n",
        "    for dir_path in source_dirs[class_type]:\n",
        "        all_files.extend([os.path.join(dir_path, file) for file in os.listdir(dir_path)])\n",
        "\n",
        "    # Shuffle the list to ensure random distribution\n",
        "    random.shuffle(all_files)\n",
        "\n",
        "    # Split files into train and test sets\n",
        "    train_files = all_files[:train_count]\n",
        "    test_files = all_files[train_count:train_count + test_count]\n",
        "\n",
        "    # Copy training files\n",
        "    for file in train_files:\n",
        "        shutil.copy(file, train_class_dir)\n",
        "\n",
        "    # Copy testing files\n",
        "    for file in test_files:\n",
        "        shutil.copy(file, test_class_dir)\n",
        "\n",
        "# Process yesBall and noBall folders\n",
        "prepare_folders('yesBall', 699 + 699, 299 + 299)  # train_count and test_count from both class and usu folders\n",
        "prepare_folders('noBall', 698 + 699, 300 + 299)\n",
        "\n",
        "print(\"Folder structure created and files copied successfully.\")\n",
        "\"\"\""
      ],
      "metadata": {
        "colab": {
          "base_uri": "https://localhost:8080/",
          "height": 122
        },
        "id": "Ehd3hEHlu2nr",
        "outputId": "ff9547ee-04cd-4b48-d22f-ed1a83eee249"
      },
      "execution_count": 12,
      "outputs": [
        {
          "output_type": "execute_result",
          "data": {
            "text/plain": [
              "'\\n# Define the source directories\\nsource_dirs = {\\n    \\'yesBall\\': [\\n        \\'/content/drive/My Drive/202404_b/class_yesBall\\',\\n        \\'/content/drive/My Drive/202404_b/usu_yesBall\\'\\n    ],\\n    \\'noBall\\': [\\n        \\'/content/drive/My Drive/202404_b/class_noBall\\',\\n        \\'/content/drive/My Drive/202404_b/usu_noBall\\'\\n    ]\\n}\\n\\n# Define the new directory structure\\nbase_dir = \\'/content/drive/My Drive/202404_b\\'\\ntrain_dir = os.path.join(base_dir, \\'train_set\\')\\ntest_dir = os.path.join(base_dir, \\'test_set\\')\\n\\n# Create train and test directories\\nos.makedirs(train_dir, exist_ok=True)\\nos.makedirs(test_dir, exist_ok=True)\\n\\n# Prepare function to process folders\\ndef prepare_folders(class_type, train_count, test_count):\\n    # Prepare training and testing folders\\n    train_class_dir = os.path.join(train_dir, class_type)\\n    test_class_dir = os.path.join(test_dir, class_type)\\n    os.makedirs(train_class_dir, exist_ok=True)\\n    os.makedirs(test_class_dir, exist_ok=True)\\n\\n    all_files = []\\n    # Aggregate files from both source directories\\n    for dir_path in source_dirs[class_type]:\\n        all_files.extend([os.path.join(dir_path, file) for file in os.listdir(dir_path)])\\n    \\n    # Shuffle the list to ensure random distribution\\n    random.shuffle(all_files)\\n\\n    # Split files into train and test sets\\n    train_files = all_files[:train_count]\\n    test_files = all_files[train_count:train_count + test_count]\\n\\n    # Copy training files\\n    for file in train_files:\\n        shutil.copy(file, train_class_dir)\\n    \\n    # Copy testing files\\n    for file in test_files:\\n        shutil.copy(file, test_class_dir)\\n\\n# Process yesBall and noBall folders\\nprepare_folders(\\'yesBall\\', 699 + 699, 299 + 299)  # train_count and test_count from both class and usu folders\\nprepare_folders(\\'noBall\\', 698 + 699, 300 + 299)\\n\\nprint(\"Folder structure created and files copied successfully.\")\\n'"
            ],
            "application/vnd.google.colaboratory.intrinsic+json": {
              "type": "string"
            }
          },
          "metadata": {},
          "execution_count": 12
        }
      ]
    },
    {
      "cell_type": "code",
      "source": [
        "\n",
        "# Get the number of files in /content/drive/My Drive/202404_b/test_set/noBall\n",
        "num_files_test_noBall = len(os.listdir('/content/drive/My Drive/202404_b/test_set/noBall'))\n",
        "\n",
        "# Get the number of files in /content/drive/My Drive/202404_b/test_set/yesBall\n",
        "num_files_test_yesBall = len(os.listdir('/content/drive/My Drive/202404_b/test_set/yesBall'))\n",
        "\n",
        "# Get the number of files in /content/drive/My Drive/202404_b/train_set/noBall\n",
        "num_files_train_noBall = len(os.listdir('/content/drive/My Drive/202404_b/train_set/noBall'))\n",
        "\n",
        "# Get the number of files in /content/drive/My Drive/202404_b/train_set/yesBall\n",
        "num_files_train_yesBall = len(os.listdir('/content/drive/My Drive/202404_b/train_set/yesBall'))\n",
        "\n",
        "# Print the number of files for each folder\n",
        "print(f'Number of files in test_noBall: {num_files_test_noBall}')\n",
        "print(f'Number of files in test_yesBall: {num_files_test_yesBall}')\n",
        "print(f'Number of files in train_noBall: {num_files_train_noBall}')\n",
        "print(f'Number of files in train_yesBall: {num_files_train_yesBall}')\n"
      ],
      "metadata": {
        "colab": {
          "base_uri": "https://localhost:8080/"
        },
        "id": "8ti0SQGZ40MK",
        "outputId": "47d5a6f0-7210-4b49-ed5e-c34239e9f152"
      },
      "execution_count": 45,
      "outputs": [
        {
          "output_type": "stream",
          "name": "stdout",
          "text": [
            "Number of files in test_noBall: 599\n",
            "Number of files in test_yesBall: 598\n",
            "Number of files in train_noBall: 1397\n",
            "Number of files in train_yesBall: 1398\n"
          ]
        }
      ]
    },
    {
      "cell_type": "code",
      "source": [
        "#check the size of the first 5 images of each folder\n",
        "\n",
        "import os\n",
        "from PIL import Image\n",
        "\n",
        "# Define the folders\n",
        "folders = [\n",
        "  '/content/drive/My Drive/202404_b/test_set/noBall',\n",
        "  '/content/drive/My Drive/202404_b/test_set/yesBall',\n",
        "  '/content/drive/My Drive/202404_b/train_set/noBall',\n",
        "  '/content/drive/My Drive/202404_b/train_set/yesBall'\n",
        "]\n",
        "\n",
        "# Loop through each folder\n",
        "for folder in folders:\n",
        "  # Get the first 5 files\n",
        "  files = os.listdir(folder)[:5]\n",
        "\n",
        "  # Print the folder name\n",
        "  print(f'Folder: {folder}')\n",
        "\n",
        "  # Loop through each file\n",
        "  for file in files:\n",
        "    # Open the image\n",
        "    image = Image.open(os.path.join(folder, file))\n",
        "\n",
        "    # Get the image size\n",
        "    width, height = image.size\n",
        "\n",
        "    # Print the image size\n",
        "    print(f'  File: {file}, Size: {width}x{height}')\n"
      ],
      "metadata": {
        "colab": {
          "base_uri": "https://localhost:8080/"
        },
        "id": "rbosTGzo5uBq",
        "outputId": "340751ab-680c-43c2-e0d2-9840dd58cb35"
      },
      "execution_count": 18,
      "outputs": [
        {
          "output_type": "stream",
          "name": "stdout",
          "text": [
            "Folder: /content/drive/My Drive/202404_b/test_set/noBall\n",
            "  File: IMG_8179.JPG, Size: 4032x3024\n",
            "  File: IMG_8345.JPG, Size: 4032x3024\n",
            "  File: IMG_7661.JPG, Size: 4032x3024\n",
            "  File: IMG_7724.JPG, Size: 4032x3024\n",
            "  File: IMG_1514.JPG, Size: 4032x3024\n",
            "Folder: /content/drive/My Drive/202404_b/test_set/yesBall\n",
            "  File: IMG_9820.JPG, Size: 4032x3024\n",
            "  File: IMG_0040.JPG, Size: 4032x3024\n",
            "  File: IMG_9810.JPG, Size: 4032x3024\n",
            "  File: IMG_8716.JPG, Size: 4032x3024\n",
            "  File: IMG_0409.JPG, Size: 4032x3024\n",
            "Folder: /content/drive/My Drive/202404_b/train_set/noBall\n",
            "  File: IMG_0566.JPG, Size: 4032x3024\n",
            "  File: IMG_0602.JPG, Size: 4032x3024\n",
            "  File: IMG_1209.JPG, Size: 4032x3024\n",
            "  File: IMG_1390.JPG, Size: 4032x3024\n",
            "  File: IMG_8370.JPG, Size: 4032x3024\n",
            "Folder: /content/drive/My Drive/202404_b/train_set/yesBall\n",
            "  File: IMG_9452.JPG, Size: 4032x3024\n",
            "  File: IMG_9006.JPG, Size: 4032x3024\n",
            "  File: IMG_8575.JPG, Size: 4032x3024\n",
            "  File: IMG_9201.JPG, Size: 4032x3024\n",
            "  File: IMG_8905.JPG, Size: 4032x3024\n"
          ]
        }
      ]
    },
    {
      "cell_type": "code",
      "source": [
        "from tensorflow.keras.preprocessing.image import load_img, img_to_array\n",
        "\n",
        "# Converts images to arrays for processing.\n",
        "def load_images_from_folder(folder):\n",
        "    images = []\n",
        "    for filename in os.listdir(folder):\n",
        "        img = load_img(os.path.join(folder,filename), color_mode='rgb', target_size=(299, 225))\n",
        "        img_arr = img_to_array(img)\n",
        "        images.append(img_arr)\n",
        "    return images\n",
        "\n",
        "# Define the folders\n",
        "folders = [\n",
        "  '/content/drive/My Drive/202404_b/test_set/noBall',\n",
        "  '/content/drive/My Drive/202404_b/test_set/yesBall',\n",
        "  '/content/drive/My Drive/202404_b/train_set/noBall',\n",
        "  '/content/drive/My Drive/202404_b/train_set/yesBall'\n",
        "]\n",
        "\n",
        "# Load images from each folder\n",
        "images = {}\n",
        "for folder in folders:\n",
        "  images[folder] = load_images_from_folder(folder)\n",
        "\n",
        "# Print the number of images loaded from each folder\n",
        "for folder, image_list in images.items():\n",
        "  print(f'Number of images loaded from {folder}: {len(image_list)}')\n",
        "\n"
      ],
      "metadata": {
        "colab": {
          "base_uri": "https://localhost:8080/"
        },
        "id": "3CK0UNMv8ahg",
        "outputId": "95b79e5c-2dab-4672-99e6-e380482a9bae"
      },
      "execution_count": 23,
      "outputs": [
        {
          "output_type": "stream",
          "name": "stdout",
          "text": [
            "Number of images loaded from /content/drive/My Drive/202404_b/test_set/noBall: 599\n",
            "Number of images loaded from /content/drive/My Drive/202404_b/test_set/yesBall: 598\n",
            "Number of images loaded from /content/drive/My Drive/202404_b/train_set/noBall: 1397\n",
            "Number of images loaded from /content/drive/My Drive/202404_b/train_set/yesBall: 1398\n"
          ]
        }
      ]
    },
    {
      "cell_type": "code",
      "source": [
        "x_train_noBalls = load_images_from_folder('/content/drive/My Drive/202404_b/train_set/noBall')\n",
        "x_train_yesBalls = load_images_from_folder('/content/drive/My Drive/202404_b/train_set/yesBall')\n",
        "\n",
        "x_test_noBalls = load_images_from_folder('/content/drive/My Drive/202404_b/test_set/noBall')\n",
        "x_test_yesBalls = load_images_from_folder('/content/drive/My Drive/202404_b/test_set/yesBall')"
      ],
      "metadata": {
        "id": "794LvDwkAQX1"
      },
      "execution_count": 24,
      "outputs": []
    },
    {
      "cell_type": "code",
      "source": [
        "import numpy as np\n",
        "\n",
        "y_train = np.concatenate( ( np.ones(len(x_train_yesBalls)), np.zeros(len(x_train_noBalls))) )\n",
        "x_train = np.concatenate( (np.array(x_train_yesBalls), np.array(x_train_noBalls) ) )\n",
        "y_test = np.concatenate( (np.ones(len(x_test_yesBalls)), np.zeros(len(x_test_noBalls))) )\n",
        "x_test = np.concatenate( (np.array(x_test_yesBalls), np.array(x_test_noBalls) ) )"
      ],
      "metadata": {
        "id": "gKcteet0DEpb"
      },
      "execution_count": 28,
      "outputs": []
    },
    {
      "cell_type": "code",
      "source": [
        "#combine the datasets\n",
        "x_combined = np.concatenate((x_train, x_test))\n",
        "y_combined = np.concatenate((y_train, y_test))"
      ],
      "metadata": {
        "id": "eVKcAc4-Dim9"
      },
      "execution_count": 30,
      "outputs": []
    },
    {
      "cell_type": "code",
      "source": [
        "print(f'Total: {len(x_combined)}')"
      ],
      "metadata": {
        "colab": {
          "base_uri": "https://localhost:8080/"
        },
        "id": "LMhNYxVNDqdl",
        "outputId": "240ef28f-3f2e-4379-d0d5-b95da9ee8d4f"
      },
      "execution_count": 31,
      "outputs": [
        {
          "output_type": "stream",
          "name": "stdout",
          "text": [
            "Total: 3992\n"
          ]
        }
      ]
    },
    {
      "cell_type": "markdown",
      "source": [
        "#Data split\n"
      ],
      "metadata": {
        "id": "C-PQQPQvDxK4"
      }
    },
    {
      "cell_type": "code",
      "source": [
        "# Shuffle the combined dataset\n",
        "randomize_combined = np.arange(len(y_combined))\n",
        "np.random.shuffle(randomize_combined)\n",
        "x_combined = x_combined[randomize_combined]\n",
        "y_combined = y_combined[randomize_combined]"
      ],
      "metadata": {
        "id": "5hbG9TE8Dzi4"
      },
      "execution_count": 32,
      "outputs": []
    },
    {
      "cell_type": "code",
      "source": [
        "from sklearn.model_selection import train_test_split\n",
        "\n",
        "# New Split\n",
        "x_train_new, x_test_new, y_train_new, y_test_new = train_test_split(x_combined, y_combined, test_size=0.30, random_state=42)\n",
        "\n",
        "# Normalize the pixel values\n",
        "x_train_new = x_train_new / 255\n",
        "x_test_new = x_test_new / 255"
      ],
      "metadata": {
        "id": "C0-1HrzuD6RK"
      },
      "execution_count": 34,
      "outputs": []
    },
    {
      "cell_type": "code",
      "source": [
        "# Display the shapes of the resulting datasets\n",
        "print(\"X_train shape:\", x_train_new.shape)\n",
        "print(\"X_test shape:\", x_test_new.shape)\n",
        "print(\"y_train shape:\", y_train_new.shape)\n",
        "print(\"y_test shape:\", y_test_new.shape)"
      ],
      "metadata": {
        "colab": {
          "base_uri": "https://localhost:8080/"
        },
        "id": "UHdYEVYOELcJ",
        "outputId": "a4a5b27f-7c3f-4cb5-b76b-d60025c75209"
      },
      "execution_count": 35,
      "outputs": [
        {
          "output_type": "stream",
          "name": "stdout",
          "text": [
            "X_train shape: (2794, 299, 225, 3)\n",
            "X_test shape: (1198, 299, 225, 3)\n",
            "y_train shape: (2794,)\n",
            "y_test shape: (1198,)\n"
          ]
        }
      ]
    },
    {
      "cell_type": "code",
      "source": [
        "x_train_new[400:402]"
      ],
      "metadata": {
        "colab": {
          "base_uri": "https://localhost:8080/"
        },
        "id": "B67afHcREPr1",
        "outputId": "c114f8a8-f746-4224-a7f2-8266ab6ac1d2"
      },
      "execution_count": 36,
      "outputs": [
        {
          "output_type": "execute_result",
          "data": {
            "text/plain": [
              "array([[[[0.7137255 , 0.6784314 , 0.61960787],\n",
              "         [0.70980394, 0.68235296, 0.61960787],\n",
              "         [0.70980394, 0.68235296, 0.61960787],\n",
              "         ...,\n",
              "         [0.57254905, 0.5686275 , 0.56078434],\n",
              "         [0.6117647 , 0.60784316, 0.6       ],\n",
              "         [0.5764706 , 0.57254905, 0.5568628 ]],\n",
              "\n",
              "        [[0.69803923, 0.6627451 , 0.6039216 ],\n",
              "         [0.6784314 , 0.6509804 , 0.5882353 ],\n",
              "         [0.7411765 , 0.7137255 , 0.6509804 ],\n",
              "         ...,\n",
              "         [0.57254905, 0.5686275 , 0.5529412 ],\n",
              "         [0.5254902 , 0.52156866, 0.5058824 ],\n",
              "         [0.5686275 , 0.5647059 , 0.54901963]],\n",
              "\n",
              "        [[0.7058824 , 0.6784314 , 0.6156863 ],\n",
              "         [0.7254902 , 0.69803923, 0.63529414],\n",
              "         [0.7019608 , 0.67058825, 0.61960787],\n",
              "         ...,\n",
              "         [0.59607846, 0.5921569 , 0.5764706 ],\n",
              "         [0.57254905, 0.5686275 , 0.5529412 ],\n",
              "         [0.6117647 , 0.60784316, 0.5921569 ]],\n",
              "\n",
              "        ...,\n",
              "\n",
              "        [[0.6156863 , 0.59607846, 0.57254905],\n",
              "         [0.654902  , 0.6392157 , 0.6039216 ],\n",
              "         [0.65882355, 0.6392157 , 0.6156863 ],\n",
              "         ...,\n",
              "         [0.64705884, 0.63529414, 0.6156863 ],\n",
              "         [0.6156863 , 0.6039216 , 0.58431375],\n",
              "         [0.654902  , 0.6431373 , 0.62352943]],\n",
              "\n",
              "        [[0.63529414, 0.61960787, 0.58431375],\n",
              "         [0.64705884, 0.6313726 , 0.59607846],\n",
              "         [0.62352943, 0.60784316, 0.57254905],\n",
              "         ...,\n",
              "         [0.654902  , 0.6431373 , 0.6156863 ],\n",
              "         [0.6313726 , 0.61960787, 0.6       ],\n",
              "         [0.63529414, 0.6156863 , 0.5921569 ]],\n",
              "\n",
              "        [[0.65882355, 0.6431373 , 0.60784316],\n",
              "         [0.64705884, 0.6313726 , 0.59607846],\n",
              "         [0.6509804 , 0.63529414, 0.6       ],\n",
              "         ...,\n",
              "         [0.6313726 , 0.61960787, 0.5921569 ],\n",
              "         [0.654902  , 0.6431373 , 0.62352943],\n",
              "         [0.63529414, 0.6156863 , 0.5921569 ]]],\n",
              "\n",
              "\n",
              "       [[[0.58431375, 0.6313726 , 0.69411767],\n",
              "         [0.60784316, 0.654902  , 0.7176471 ],\n",
              "         [0.5686275 , 0.6117647 , 0.68235296],\n",
              "         ...,\n",
              "         [0.78431374, 0.6901961 , 0.5411765 ],\n",
              "         [0.7607843 , 0.65882355, 0.52156866],\n",
              "         [0.7372549 , 0.6431373 , 0.5019608 ]],\n",
              "\n",
              "        [[0.5803922 , 0.62352943, 0.69411767],\n",
              "         [0.59607846, 0.6392157 , 0.70980394],\n",
              "         [0.58431375, 0.63529414, 0.7019608 ],\n",
              "         ...,\n",
              "         [0.7647059 , 0.6784314 , 0.53333336],\n",
              "         [0.8039216 , 0.72156864, 0.60784316],\n",
              "         [0.8352941 , 0.78039217, 0.6784314 ]],\n",
              "\n",
              "        [[0.6117647 , 0.6627451 , 0.7372549 ],\n",
              "         [0.6313726 , 0.6901961 , 0.7647059 ],\n",
              "         [0.64705884, 0.69803923, 0.77254903],\n",
              "         ...,\n",
              "         [0.91764706, 0.8862745 , 0.79607844],\n",
              "         [0.827451  , 0.79607844, 0.7058824 ],\n",
              "         [0.78039217, 0.7372549 , 0.65882355]],\n",
              "\n",
              "        ...,\n",
              "\n",
              "        [[0.3647059 , 0.3529412 , 0.33333334],\n",
              "         [0.37254903, 0.36078432, 0.33333334],\n",
              "         [0.3372549 , 0.33333334, 0.3137255 ],\n",
              "         ...,\n",
              "         [0.3764706 , 0.34117648, 0.30588236],\n",
              "         [0.38039216, 0.34509805, 0.30980393],\n",
              "         [0.38039216, 0.34509805, 0.30980393]],\n",
              "\n",
              "        [[0.41568628, 0.40392157, 0.3764706 ],\n",
              "         [0.37254903, 0.36078432, 0.33333334],\n",
              "         [0.3647059 , 0.3529412 , 0.31764707],\n",
              "         ...,\n",
              "         [0.36862746, 0.33333334, 0.29803923],\n",
              "         [0.35686275, 0.32156864, 0.28627452],\n",
              "         [0.3764706 , 0.34117648, 0.30588236]],\n",
              "\n",
              "        [[0.3647059 , 0.3529412 , 0.3254902 ],\n",
              "         [0.3647059 , 0.3529412 , 0.3254902 ],\n",
              "         [0.41960785, 0.40784314, 0.37254903],\n",
              "         ...,\n",
              "         [0.36078432, 0.3254902 , 0.2901961 ],\n",
              "         [0.36078432, 0.3254902 , 0.2901961 ],\n",
              "         [0.36862746, 0.32941177, 0.29411766]]]], dtype=float32)"
            ]
          },
          "metadata": {},
          "execution_count": 36
        }
      ]
    },
    {
      "cell_type": "code",
      "source": [
        "y_train_new[400:405]"
      ],
      "metadata": {
        "colab": {
          "base_uri": "https://localhost:8080/"
        },
        "id": "rRHc-DuVEUg0",
        "outputId": "4ee141d6-42b6-431a-d0eb-99b51befceed"
      },
      "execution_count": 38,
      "outputs": [
        {
          "output_type": "execute_result",
          "data": {
            "text/plain": [
              "array([0., 0., 0., 1., 0.])"
            ]
          },
          "metadata": {},
          "execution_count": 38
        }
      ]
    },
    {
      "cell_type": "code",
      "source": [
        "import tensorflow as tf\n",
        "from tensorflow.keras.models import Sequential\n",
        "from tensorflow.keras.layers import Dense, Dropout, Activation, Flatten, Conv2D, MaxPooling2D\n",
        "from tensorflow.keras.callbacks import ModelCheckpoint\n",
        "\n",
        "model = Sequential()\n",
        "\n",
        "# Convolutional layers\n",
        "model.add(Conv2D(64, (3, 3), input_shape=(299, 225, 3)))\n",
        "model.add(Activation('relu'))\n",
        "model.add(MaxPooling2D(pool_size=(2, 2)))\n",
        "\n",
        "model.add(Conv2D(64, (3, 3)))\n",
        "model.add(Activation('relu'))\n",
        "model.add(MaxPooling2D(pool_size=(2, 2)))\n",
        "\n",
        "model.add(Conv2D(64, (3, 3)))\n",
        "model.add(Activation('relu'))\n",
        "model.add(MaxPooling2D(pool_size=(2, 2)))\n",
        "\n",
        "# Dense layers\n",
        "model.add(Flatten())\n",
        "model.add(Dense(64))\n",
        "model.add(Activation('relu'))\n",
        "\n",
        "model.add(Dense(32))\n",
        "model.add(Activation('relu'))\n",
        "\n",
        "model.add(Dense(1))\n",
        "model.add(Activation('sigmoid'))\n",
        "\n",
        "# Compile the model\n",
        "model.compile(loss='binary_crossentropy', optimizer='adam', metrics=['accuracy'])\n",
        "\n",
        "checkpointer = ModelCheckpoint(filepath=\"best_model4.h5\", verbose=0, save_best_only=True)\n",
        "\n",
        "# Train the model\n",
        "model.fit(x_train_new, y_train_new, epochs=10, validation_data=(x_test_new, y_test_new), callbacks=[checkpointer])"
      ],
      "metadata": {
        "colab": {
          "base_uri": "https://localhost:8080/",
          "height": 356
        },
        "id": "fhD5dN-mOpZd",
        "outputId": "4a7e7e44-2822-4c4f-9fcb-43a651634748"
      },
      "execution_count": 60,
      "outputs": [
        {
          "output_type": "stream",
          "name": "stdout",
          "text": [
            "Epoch 1/10\n",
            "79/88 [=========================>....] - ETA: 0s - loss: 0.6291 - accuracy: 0.6305"
          ]
        },
        {
          "output_type": "error",
          "ename": "KeyboardInterrupt",
          "evalue": "",
          "traceback": [
            "\u001b[0;31m---------------------------------------------------------------------------\u001b[0m",
            "\u001b[0;31mKeyboardInterrupt\u001b[0m                         Traceback (most recent call last)",
            "\u001b[0;32m<ipython-input-60-9d9985701c0d>\u001b[0m in \u001b[0;36m<cell line: 38>\u001b[0;34m()\u001b[0m\n\u001b[1;32m     36\u001b[0m \u001b[0;34m\u001b[0m\u001b[0m\n\u001b[1;32m     37\u001b[0m \u001b[0;31m# Train the model\u001b[0m\u001b[0;34m\u001b[0m\u001b[0;34m\u001b[0m\u001b[0m\n\u001b[0;32m---> 38\u001b[0;31m \u001b[0mmodel\u001b[0m\u001b[0;34m.\u001b[0m\u001b[0mfit\u001b[0m\u001b[0;34m(\u001b[0m\u001b[0mx_train_new\u001b[0m\u001b[0;34m,\u001b[0m \u001b[0my_train_new\u001b[0m\u001b[0;34m,\u001b[0m \u001b[0mepochs\u001b[0m\u001b[0;34m=\u001b[0m\u001b[0;36m10\u001b[0m\u001b[0;34m,\u001b[0m \u001b[0mvalidation_data\u001b[0m\u001b[0;34m=\u001b[0m\u001b[0;34m(\u001b[0m\u001b[0mx_test_new\u001b[0m\u001b[0;34m,\u001b[0m \u001b[0my_test_new\u001b[0m\u001b[0;34m)\u001b[0m\u001b[0;34m,\u001b[0m \u001b[0mcallbacks\u001b[0m\u001b[0;34m=\u001b[0m\u001b[0;34m[\u001b[0m\u001b[0mcheckpointer\u001b[0m\u001b[0;34m]\u001b[0m\u001b[0;34m)\u001b[0m\u001b[0;34m\u001b[0m\u001b[0;34m\u001b[0m\u001b[0m\n\u001b[0m",
            "\u001b[0;32m/usr/local/lib/python3.10/dist-packages/keras/src/utils/traceback_utils.py\u001b[0m in \u001b[0;36merror_handler\u001b[0;34m(*args, **kwargs)\u001b[0m\n\u001b[1;32m     63\u001b[0m         \u001b[0mfiltered_tb\u001b[0m \u001b[0;34m=\u001b[0m \u001b[0;32mNone\u001b[0m\u001b[0;34m\u001b[0m\u001b[0;34m\u001b[0m\u001b[0m\n\u001b[1;32m     64\u001b[0m         \u001b[0;32mtry\u001b[0m\u001b[0;34m:\u001b[0m\u001b[0;34m\u001b[0m\u001b[0;34m\u001b[0m\u001b[0m\n\u001b[0;32m---> 65\u001b[0;31m             \u001b[0;32mreturn\u001b[0m \u001b[0mfn\u001b[0m\u001b[0;34m(\u001b[0m\u001b[0;34m*\u001b[0m\u001b[0margs\u001b[0m\u001b[0;34m,\u001b[0m \u001b[0;34m**\u001b[0m\u001b[0mkwargs\u001b[0m\u001b[0;34m)\u001b[0m\u001b[0;34m\u001b[0m\u001b[0;34m\u001b[0m\u001b[0m\n\u001b[0m\u001b[1;32m     66\u001b[0m         \u001b[0;32mexcept\u001b[0m \u001b[0mException\u001b[0m \u001b[0;32mas\u001b[0m \u001b[0me\u001b[0m\u001b[0;34m:\u001b[0m\u001b[0;34m\u001b[0m\u001b[0;34m\u001b[0m\u001b[0m\n\u001b[1;32m     67\u001b[0m             \u001b[0mfiltered_tb\u001b[0m \u001b[0;34m=\u001b[0m \u001b[0m_process_traceback_frames\u001b[0m\u001b[0;34m(\u001b[0m\u001b[0me\u001b[0m\u001b[0;34m.\u001b[0m\u001b[0m__traceback__\u001b[0m\u001b[0;34m)\u001b[0m\u001b[0;34m\u001b[0m\u001b[0;34m\u001b[0m\u001b[0m\n",
            "\u001b[0;32m/usr/local/lib/python3.10/dist-packages/keras/src/engine/training.py\u001b[0m in \u001b[0;36mfit\u001b[0;34m(self, x, y, batch_size, epochs, verbose, callbacks, validation_split, validation_data, shuffle, class_weight, sample_weight, initial_epoch, steps_per_epoch, validation_steps, validation_batch_size, validation_freq, max_queue_size, workers, use_multiprocessing)\u001b[0m\n\u001b[1;32m   1805\u001b[0m                         ):\n\u001b[1;32m   1806\u001b[0m                             \u001b[0mcallbacks\u001b[0m\u001b[0;34m.\u001b[0m\u001b[0mon_train_batch_begin\u001b[0m\u001b[0;34m(\u001b[0m\u001b[0mstep\u001b[0m\u001b[0;34m)\u001b[0m\u001b[0;34m\u001b[0m\u001b[0;34m\u001b[0m\u001b[0m\n\u001b[0;32m-> 1807\u001b[0;31m                             \u001b[0mtmp_logs\u001b[0m \u001b[0;34m=\u001b[0m \u001b[0mself\u001b[0m\u001b[0;34m.\u001b[0m\u001b[0mtrain_function\u001b[0m\u001b[0;34m(\u001b[0m\u001b[0miterator\u001b[0m\u001b[0;34m)\u001b[0m\u001b[0;34m\u001b[0m\u001b[0;34m\u001b[0m\u001b[0m\n\u001b[0m\u001b[1;32m   1808\u001b[0m                             \u001b[0;32mif\u001b[0m \u001b[0mdata_handler\u001b[0m\u001b[0;34m.\u001b[0m\u001b[0mshould_sync\u001b[0m\u001b[0;34m:\u001b[0m\u001b[0;34m\u001b[0m\u001b[0;34m\u001b[0m\u001b[0m\n\u001b[1;32m   1809\u001b[0m                                 \u001b[0mcontext\u001b[0m\u001b[0;34m.\u001b[0m\u001b[0masync_wait\u001b[0m\u001b[0;34m(\u001b[0m\u001b[0;34m)\u001b[0m\u001b[0;34m\u001b[0m\u001b[0;34m\u001b[0m\u001b[0m\n",
            "\u001b[0;32m/usr/local/lib/python3.10/dist-packages/tensorflow/python/util/traceback_utils.py\u001b[0m in \u001b[0;36merror_handler\u001b[0;34m(*args, **kwargs)\u001b[0m\n\u001b[1;32m    148\u001b[0m     \u001b[0mfiltered_tb\u001b[0m \u001b[0;34m=\u001b[0m \u001b[0;32mNone\u001b[0m\u001b[0;34m\u001b[0m\u001b[0;34m\u001b[0m\u001b[0m\n\u001b[1;32m    149\u001b[0m     \u001b[0;32mtry\u001b[0m\u001b[0;34m:\u001b[0m\u001b[0;34m\u001b[0m\u001b[0;34m\u001b[0m\u001b[0m\n\u001b[0;32m--> 150\u001b[0;31m       \u001b[0;32mreturn\u001b[0m \u001b[0mfn\u001b[0m\u001b[0;34m(\u001b[0m\u001b[0;34m*\u001b[0m\u001b[0margs\u001b[0m\u001b[0;34m,\u001b[0m \u001b[0;34m**\u001b[0m\u001b[0mkwargs\u001b[0m\u001b[0;34m)\u001b[0m\u001b[0;34m\u001b[0m\u001b[0;34m\u001b[0m\u001b[0m\n\u001b[0m\u001b[1;32m    151\u001b[0m     \u001b[0;32mexcept\u001b[0m \u001b[0mException\u001b[0m \u001b[0;32mas\u001b[0m \u001b[0me\u001b[0m\u001b[0;34m:\u001b[0m\u001b[0;34m\u001b[0m\u001b[0;34m\u001b[0m\u001b[0m\n\u001b[1;32m    152\u001b[0m       \u001b[0mfiltered_tb\u001b[0m \u001b[0;34m=\u001b[0m \u001b[0m_process_traceback_frames\u001b[0m\u001b[0;34m(\u001b[0m\u001b[0me\u001b[0m\u001b[0;34m.\u001b[0m\u001b[0m__traceback__\u001b[0m\u001b[0;34m)\u001b[0m\u001b[0;34m\u001b[0m\u001b[0;34m\u001b[0m\u001b[0m\n",
            "\u001b[0;32m/usr/local/lib/python3.10/dist-packages/tensorflow/python/eager/polymorphic_function/polymorphic_function.py\u001b[0m in \u001b[0;36m__call__\u001b[0;34m(self, *args, **kwds)\u001b[0m\n\u001b[1;32m    830\u001b[0m \u001b[0;34m\u001b[0m\u001b[0m\n\u001b[1;32m    831\u001b[0m       \u001b[0;32mwith\u001b[0m \u001b[0mOptionalXlaContext\u001b[0m\u001b[0;34m(\u001b[0m\u001b[0mself\u001b[0m\u001b[0;34m.\u001b[0m\u001b[0m_jit_compile\u001b[0m\u001b[0;34m)\u001b[0m\u001b[0;34m:\u001b[0m\u001b[0;34m\u001b[0m\u001b[0;34m\u001b[0m\u001b[0m\n\u001b[0;32m--> 832\u001b[0;31m         \u001b[0mresult\u001b[0m \u001b[0;34m=\u001b[0m \u001b[0mself\u001b[0m\u001b[0;34m.\u001b[0m\u001b[0m_call\u001b[0m\u001b[0;34m(\u001b[0m\u001b[0;34m*\u001b[0m\u001b[0margs\u001b[0m\u001b[0;34m,\u001b[0m \u001b[0;34m**\u001b[0m\u001b[0mkwds\u001b[0m\u001b[0;34m)\u001b[0m\u001b[0;34m\u001b[0m\u001b[0;34m\u001b[0m\u001b[0m\n\u001b[0m\u001b[1;32m    833\u001b[0m \u001b[0;34m\u001b[0m\u001b[0m\n\u001b[1;32m    834\u001b[0m       \u001b[0mnew_tracing_count\u001b[0m \u001b[0;34m=\u001b[0m \u001b[0mself\u001b[0m\u001b[0;34m.\u001b[0m\u001b[0mexperimental_get_tracing_count\u001b[0m\u001b[0;34m(\u001b[0m\u001b[0;34m)\u001b[0m\u001b[0;34m\u001b[0m\u001b[0;34m\u001b[0m\u001b[0m\n",
            "\u001b[0;32m/usr/local/lib/python3.10/dist-packages/tensorflow/python/eager/polymorphic_function/polymorphic_function.py\u001b[0m in \u001b[0;36m_call\u001b[0;34m(self, *args, **kwds)\u001b[0m\n\u001b[1;32m    866\u001b[0m       \u001b[0;31m# In this case we have created variables on the first call, so we run the\u001b[0m\u001b[0;34m\u001b[0m\u001b[0;34m\u001b[0m\u001b[0m\n\u001b[1;32m    867\u001b[0m       \u001b[0;31m# defunned version which is guaranteed to never create variables.\u001b[0m\u001b[0;34m\u001b[0m\u001b[0;34m\u001b[0m\u001b[0m\n\u001b[0;32m--> 868\u001b[0;31m       return tracing_compilation.call_function(\n\u001b[0m\u001b[1;32m    869\u001b[0m           \u001b[0margs\u001b[0m\u001b[0;34m,\u001b[0m \u001b[0mkwds\u001b[0m\u001b[0;34m,\u001b[0m \u001b[0mself\u001b[0m\u001b[0;34m.\u001b[0m\u001b[0m_no_variable_creation_config\u001b[0m\u001b[0;34m\u001b[0m\u001b[0;34m\u001b[0m\u001b[0m\n\u001b[1;32m    870\u001b[0m       )\n",
            "\u001b[0;32m/usr/local/lib/python3.10/dist-packages/tensorflow/python/eager/polymorphic_function/tracing_compilation.py\u001b[0m in \u001b[0;36mcall_function\u001b[0;34m(args, kwargs, tracing_options)\u001b[0m\n\u001b[1;32m    137\u001b[0m   \u001b[0mbound_args\u001b[0m \u001b[0;34m=\u001b[0m \u001b[0mfunction\u001b[0m\u001b[0;34m.\u001b[0m\u001b[0mfunction_type\u001b[0m\u001b[0;34m.\u001b[0m\u001b[0mbind\u001b[0m\u001b[0;34m(\u001b[0m\u001b[0;34m*\u001b[0m\u001b[0margs\u001b[0m\u001b[0;34m,\u001b[0m \u001b[0;34m**\u001b[0m\u001b[0mkwargs\u001b[0m\u001b[0;34m)\u001b[0m\u001b[0;34m\u001b[0m\u001b[0;34m\u001b[0m\u001b[0m\n\u001b[1;32m    138\u001b[0m   \u001b[0mflat_inputs\u001b[0m \u001b[0;34m=\u001b[0m \u001b[0mfunction\u001b[0m\u001b[0;34m.\u001b[0m\u001b[0mfunction_type\u001b[0m\u001b[0;34m.\u001b[0m\u001b[0munpack_inputs\u001b[0m\u001b[0;34m(\u001b[0m\u001b[0mbound_args\u001b[0m\u001b[0;34m)\u001b[0m\u001b[0;34m\u001b[0m\u001b[0;34m\u001b[0m\u001b[0m\n\u001b[0;32m--> 139\u001b[0;31m   return function._call_flat(  # pylint: disable=protected-access\n\u001b[0m\u001b[1;32m    140\u001b[0m       \u001b[0mflat_inputs\u001b[0m\u001b[0;34m,\u001b[0m \u001b[0mcaptured_inputs\u001b[0m\u001b[0;34m=\u001b[0m\u001b[0mfunction\u001b[0m\u001b[0;34m.\u001b[0m\u001b[0mcaptured_inputs\u001b[0m\u001b[0;34m\u001b[0m\u001b[0;34m\u001b[0m\u001b[0m\n\u001b[1;32m    141\u001b[0m   )\n",
            "\u001b[0;32m/usr/local/lib/python3.10/dist-packages/tensorflow/python/eager/polymorphic_function/concrete_function.py\u001b[0m in \u001b[0;36m_call_flat\u001b[0;34m(self, tensor_inputs, captured_inputs)\u001b[0m\n\u001b[1;32m   1321\u001b[0m         and executing_eagerly):\n\u001b[1;32m   1322\u001b[0m       \u001b[0;31m# No tape is watching; skip to running the function.\u001b[0m\u001b[0;34m\u001b[0m\u001b[0;34m\u001b[0m\u001b[0m\n\u001b[0;32m-> 1323\u001b[0;31m       \u001b[0;32mreturn\u001b[0m \u001b[0mself\u001b[0m\u001b[0;34m.\u001b[0m\u001b[0m_inference_function\u001b[0m\u001b[0;34m.\u001b[0m\u001b[0mcall_preflattened\u001b[0m\u001b[0;34m(\u001b[0m\u001b[0margs\u001b[0m\u001b[0;34m)\u001b[0m\u001b[0;34m\u001b[0m\u001b[0;34m\u001b[0m\u001b[0m\n\u001b[0m\u001b[1;32m   1324\u001b[0m     forward_backward = self._select_forward_and_backward_functions(\n\u001b[1;32m   1325\u001b[0m         \u001b[0margs\u001b[0m\u001b[0;34m,\u001b[0m\u001b[0;34m\u001b[0m\u001b[0;34m\u001b[0m\u001b[0m\n",
            "\u001b[0;32m/usr/local/lib/python3.10/dist-packages/tensorflow/python/eager/polymorphic_function/atomic_function.py\u001b[0m in \u001b[0;36mcall_preflattened\u001b[0;34m(self, args)\u001b[0m\n\u001b[1;32m    214\u001b[0m   \u001b[0;32mdef\u001b[0m \u001b[0mcall_preflattened\u001b[0m\u001b[0;34m(\u001b[0m\u001b[0mself\u001b[0m\u001b[0;34m,\u001b[0m \u001b[0margs\u001b[0m\u001b[0;34m:\u001b[0m \u001b[0mSequence\u001b[0m\u001b[0;34m[\u001b[0m\u001b[0mcore\u001b[0m\u001b[0;34m.\u001b[0m\u001b[0mTensor\u001b[0m\u001b[0;34m]\u001b[0m\u001b[0;34m)\u001b[0m \u001b[0;34m->\u001b[0m \u001b[0mAny\u001b[0m\u001b[0;34m:\u001b[0m\u001b[0;34m\u001b[0m\u001b[0;34m\u001b[0m\u001b[0m\n\u001b[1;32m    215\u001b[0m     \u001b[0;34m\"\"\"Calls with flattened tensor inputs and returns the structured output.\"\"\"\u001b[0m\u001b[0;34m\u001b[0m\u001b[0;34m\u001b[0m\u001b[0m\n\u001b[0;32m--> 216\u001b[0;31m     \u001b[0mflat_outputs\u001b[0m \u001b[0;34m=\u001b[0m \u001b[0mself\u001b[0m\u001b[0;34m.\u001b[0m\u001b[0mcall_flat\u001b[0m\u001b[0;34m(\u001b[0m\u001b[0;34m*\u001b[0m\u001b[0margs\u001b[0m\u001b[0;34m)\u001b[0m\u001b[0;34m\u001b[0m\u001b[0;34m\u001b[0m\u001b[0m\n\u001b[0m\u001b[1;32m    217\u001b[0m     \u001b[0;32mreturn\u001b[0m \u001b[0mself\u001b[0m\u001b[0;34m.\u001b[0m\u001b[0mfunction_type\u001b[0m\u001b[0;34m.\u001b[0m\u001b[0mpack_output\u001b[0m\u001b[0;34m(\u001b[0m\u001b[0mflat_outputs\u001b[0m\u001b[0;34m)\u001b[0m\u001b[0;34m\u001b[0m\u001b[0;34m\u001b[0m\u001b[0m\n\u001b[1;32m    218\u001b[0m \u001b[0;34m\u001b[0m\u001b[0m\n",
            "\u001b[0;32m/usr/local/lib/python3.10/dist-packages/tensorflow/python/eager/polymorphic_function/atomic_function.py\u001b[0m in \u001b[0;36mcall_flat\u001b[0;34m(self, *args)\u001b[0m\n\u001b[1;32m    249\u001b[0m         \u001b[0;32mwith\u001b[0m \u001b[0mrecord\u001b[0m\u001b[0;34m.\u001b[0m\u001b[0mstop_recording\u001b[0m\u001b[0;34m(\u001b[0m\u001b[0;34m)\u001b[0m\u001b[0;34m:\u001b[0m\u001b[0;34m\u001b[0m\u001b[0;34m\u001b[0m\u001b[0m\n\u001b[1;32m    250\u001b[0m           \u001b[0;32mif\u001b[0m \u001b[0mself\u001b[0m\u001b[0;34m.\u001b[0m\u001b[0m_bound_context\u001b[0m\u001b[0;34m.\u001b[0m\u001b[0mexecuting_eagerly\u001b[0m\u001b[0;34m(\u001b[0m\u001b[0;34m)\u001b[0m\u001b[0;34m:\u001b[0m\u001b[0;34m\u001b[0m\u001b[0;34m\u001b[0m\u001b[0m\n\u001b[0;32m--> 251\u001b[0;31m             outputs = self._bound_context.call_function(\n\u001b[0m\u001b[1;32m    252\u001b[0m                 \u001b[0mself\u001b[0m\u001b[0;34m.\u001b[0m\u001b[0mname\u001b[0m\u001b[0;34m,\u001b[0m\u001b[0;34m\u001b[0m\u001b[0;34m\u001b[0m\u001b[0m\n\u001b[1;32m    253\u001b[0m                 \u001b[0mlist\u001b[0m\u001b[0;34m(\u001b[0m\u001b[0margs\u001b[0m\u001b[0;34m)\u001b[0m\u001b[0;34m,\u001b[0m\u001b[0;34m\u001b[0m\u001b[0;34m\u001b[0m\u001b[0m\n",
            "\u001b[0;32m/usr/local/lib/python3.10/dist-packages/tensorflow/python/eager/context.py\u001b[0m in \u001b[0;36mcall_function\u001b[0;34m(self, name, tensor_inputs, num_outputs)\u001b[0m\n\u001b[1;32m   1484\u001b[0m     \u001b[0mcancellation_context\u001b[0m \u001b[0;34m=\u001b[0m \u001b[0mcancellation\u001b[0m\u001b[0;34m.\u001b[0m\u001b[0mcontext\u001b[0m\u001b[0;34m(\u001b[0m\u001b[0;34m)\u001b[0m\u001b[0;34m\u001b[0m\u001b[0;34m\u001b[0m\u001b[0m\n\u001b[1;32m   1485\u001b[0m     \u001b[0;32mif\u001b[0m \u001b[0mcancellation_context\u001b[0m \u001b[0;32mis\u001b[0m \u001b[0;32mNone\u001b[0m\u001b[0;34m:\u001b[0m\u001b[0;34m\u001b[0m\u001b[0;34m\u001b[0m\u001b[0m\n\u001b[0;32m-> 1486\u001b[0;31m       outputs = execute.execute(\n\u001b[0m\u001b[1;32m   1487\u001b[0m           \u001b[0mname\u001b[0m\u001b[0;34m.\u001b[0m\u001b[0mdecode\u001b[0m\u001b[0;34m(\u001b[0m\u001b[0;34m\"utf-8\"\u001b[0m\u001b[0;34m)\u001b[0m\u001b[0;34m,\u001b[0m\u001b[0;34m\u001b[0m\u001b[0;34m\u001b[0m\u001b[0m\n\u001b[1;32m   1488\u001b[0m           \u001b[0mnum_outputs\u001b[0m\u001b[0;34m=\u001b[0m\u001b[0mnum_outputs\u001b[0m\u001b[0;34m,\u001b[0m\u001b[0;34m\u001b[0m\u001b[0;34m\u001b[0m\u001b[0m\n",
            "\u001b[0;32m/usr/local/lib/python3.10/dist-packages/tensorflow/python/eager/execute.py\u001b[0m in \u001b[0;36mquick_execute\u001b[0;34m(op_name, num_outputs, inputs, attrs, ctx, name)\u001b[0m\n\u001b[1;32m     51\u001b[0m   \u001b[0;32mtry\u001b[0m\u001b[0;34m:\u001b[0m\u001b[0;34m\u001b[0m\u001b[0;34m\u001b[0m\u001b[0m\n\u001b[1;32m     52\u001b[0m     \u001b[0mctx\u001b[0m\u001b[0;34m.\u001b[0m\u001b[0mensure_initialized\u001b[0m\u001b[0;34m(\u001b[0m\u001b[0;34m)\u001b[0m\u001b[0;34m\u001b[0m\u001b[0;34m\u001b[0m\u001b[0m\n\u001b[0;32m---> 53\u001b[0;31m     tensors = pywrap_tfe.TFE_Py_Execute(ctx._handle, device_name, op_name,\n\u001b[0m\u001b[1;32m     54\u001b[0m                                         inputs, attrs, num_outputs)\n\u001b[1;32m     55\u001b[0m   \u001b[0;32mexcept\u001b[0m \u001b[0mcore\u001b[0m\u001b[0;34m.\u001b[0m\u001b[0m_NotOkStatusException\u001b[0m \u001b[0;32mas\u001b[0m \u001b[0me\u001b[0m\u001b[0;34m:\u001b[0m\u001b[0;34m\u001b[0m\u001b[0;34m\u001b[0m\u001b[0m\n",
            "\u001b[0;31mKeyboardInterrupt\u001b[0m: "
          ]
        }
      ]
    }
  ]
}