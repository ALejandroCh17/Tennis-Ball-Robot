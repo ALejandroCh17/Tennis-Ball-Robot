{
  "nbformat": 4,
  "nbformat_minor": 0,
  "metadata": {
    "colab": {
      "provenance": [],
      "machine_shape": "hm",
      "gpuType": "A100",
      "authorship_tag": "ABX9TyOi/LjMlUazu/0hacIvV/He",
      "include_colab_link": true
    },
    "kernelspec": {
      "name": "python3",
      "display_name": "Python 3"
    },
    "language_info": {
      "name": "python"
    },
    "accelerator": "GPU"
  },
  "cells": [
    {
      "cell_type": "markdown",
      "metadata": {
        "id": "view-in-github",
        "colab_type": "text"
      },
      "source": [
        "<a href=\"https://colab.research.google.com/github/ALejandroCh17/Tennis-Ball-Robot/blob/daniel_branch/model4.ipynb\" target=\"_parent\"><img src=\"https://colab.research.google.com/assets/colab-badge.svg\" alt=\"Open In Colab\"/></a>"
      ]
    },
    {
      "cell_type": "code",
      "execution_count": 1,
      "metadata": {
        "colab": {
          "base_uri": "https://localhost:8080/"
        },
        "id": "YRh52dC5Qu9s",
        "outputId": "9dc26571-a37f-4451-8cc0-d1452868d1bc"
      },
      "outputs": [
        {
          "output_type": "stream",
          "name": "stdout",
          "text": [
            "Mounted at /content/drive\n"
          ]
        }
      ],
      "source": [
        "from google.colab import drive\n",
        "drive.mount('/content/drive')"
      ]
    },
    {
      "cell_type": "code",
      "source": [
        "\"\"\"\n",
        "class_noBall_dir = '/content/drive/My Drive/202404_b/class_noBall'\n",
        "class_yesBall_dir = '/content/drive/My Drive/202404_b/class_yesBall'\n",
        "usu_noBall_dir = '/content/drive/My Drive/202404_b/usu_noBall'\n",
        "usu_yesBall_dir = '/content/drive/My Drive/202404_b/usu_yesBall'\n",
        "\"\"\""
      ],
      "metadata": {
        "id": "QvdUNvwiRZvc"
      },
      "execution_count": 5,
      "outputs": []
    },
    {
      "cell_type": "code",
      "source": [
        "\"\"\"\n",
        "import os\n",
        "\n",
        "num_files_class_noBall = len(os.listdir(class_noBall_dir))\n",
        "num_files_class_Ball = len(os.listdir(class_yesBall_dir))\n",
        "num_files_usu_noBall = len(os.listdir(usu_noBall_dir))\n",
        "num_files_usu_Ball = len(os.listdir(usu_yesBall_dir))\n",
        "\n",
        "print(f'Number of files in class_noBall_dir: {num_files_class_noBall}')\n",
        "print(f'Number of files in class_yesBall_dir: {num_files_class_Ball}')\n",
        "print(f'Number of files in usu_noBall_dir: {num_files_usu_noBall}')\n",
        "print(f'Number of files in usu_yesBall_dir: {num_files_usu_Ball}')\n",
        "\"\"\""
      ],
      "metadata": {
        "colab": {
          "base_uri": "https://localhost:8080/"
        },
        "id": "SFHX6GxsR6QO",
        "outputId": "a0dafc97-749f-4752-ce74-2b758fddefe4"
      },
      "execution_count": 6,
      "outputs": [
        {
          "output_type": "stream",
          "name": "stdout",
          "text": [
            "Number of files in class_noBall_dir: 998\n",
            "Number of files in class_yesBall_dir: 998\n",
            "Number of files in usu_noBall_dir: 998\n",
            "Number of files in usu_yesBall_dir: 998\n"
          ]
        }
      ]
    },
    {
      "cell_type": "code",
      "source": [
        "import os\n",
        "import shutil\n",
        "import random\n",
        "\"\"\"\n",
        "# Define the source directories\n",
        "source_dirs = {\n",
        "    'yesBall': [\n",
        "        '/content/drive/My Drive/202404_b/class_yesBall',\n",
        "        '/content/drive/My Drive/202404_b/usu_yesBall'\n",
        "    ],\n",
        "    'noBall': [\n",
        "        '/content/drive/My Drive/202404_b/class_noBall',\n",
        "        '/content/drive/My Drive/202404_b/usu_noBall'\n",
        "    ]\n",
        "}\n",
        "\n",
        "# Define the new directory structure\n",
        "base_dir = '/content/drive/My Drive/202404_b'\n",
        "train_dir = os.path.join(base_dir, 'train_set')\n",
        "test_dir = os.path.join(base_dir, 'test_set')\n",
        "\n",
        "# Create train and test directories\n",
        "os.makedirs(train_dir, exist_ok=True)\n",
        "os.makedirs(test_dir, exist_ok=True)\n",
        "\n",
        "# Prepare function to process folders\n",
        "def prepare_folders(class_type, train_count, test_count):\n",
        "    # Prepare training and testing folders\n",
        "    train_class_dir = os.path.join(train_dir, class_type)\n",
        "    test_class_dir = os.path.join(test_dir, class_type)\n",
        "    os.makedirs(train_class_dir, exist_ok=True)\n",
        "    os.makedirs(test_class_dir, exist_ok=True)\n",
        "\n",
        "    all_files = []\n",
        "    # Aggregate files from both source directories\n",
        "    for dir_path in source_dirs[class_type]:\n",
        "        all_files.extend([os.path.join(dir_path, file) for file in os.listdir(dir_path)])\n",
        "\n",
        "    # Shuffle the list to ensure random distribution\n",
        "    random.shuffle(all_files)\n",
        "\n",
        "    # Split files into train and test sets\n",
        "    train_files = all_files[:train_count]\n",
        "    test_files = all_files[train_count:train_count + test_count]\n",
        "\n",
        "    # Copy training files\n",
        "    for file in train_files:\n",
        "        shutil.copy(file, train_class_dir)\n",
        "\n",
        "    # Copy testing files\n",
        "    for file in test_files:\n",
        "        shutil.copy(file, test_class_dir)\n",
        "\n",
        "# Process yesBall and noBall folders\n",
        "prepare_folders('yesBall', 699 + 699, 299 + 299)  # train_count and test_count from both class and usu folders\n",
        "prepare_folders('noBall', 698 + 699, 300 + 299)\n",
        "\n",
        "print(\"Folder structure created and files copied successfully.\")\n",
        "\"\"\""
      ],
      "metadata": {
        "colab": {
          "base_uri": "https://localhost:8080/",
          "height": 122
        },
        "id": "Ehd3hEHlu2nr",
        "outputId": "ff9547ee-04cd-4b48-d22f-ed1a83eee249"
      },
      "execution_count": 12,
      "outputs": [
        {
          "output_type": "execute_result",
          "data": {
            "text/plain": [
              "'\\n# Define the source directories\\nsource_dirs = {\\n    \\'yesBall\\': [\\n        \\'/content/drive/My Drive/202404_b/class_yesBall\\',\\n        \\'/content/drive/My Drive/202404_b/usu_yesBall\\'\\n    ],\\n    \\'noBall\\': [\\n        \\'/content/drive/My Drive/202404_b/class_noBall\\',\\n        \\'/content/drive/My Drive/202404_b/usu_noBall\\'\\n    ]\\n}\\n\\n# Define the new directory structure\\nbase_dir = \\'/content/drive/My Drive/202404_b\\'\\ntrain_dir = os.path.join(base_dir, \\'train_set\\')\\ntest_dir = os.path.join(base_dir, \\'test_set\\')\\n\\n# Create train and test directories\\nos.makedirs(train_dir, exist_ok=True)\\nos.makedirs(test_dir, exist_ok=True)\\n\\n# Prepare function to process folders\\ndef prepare_folders(class_type, train_count, test_count):\\n    # Prepare training and testing folders\\n    train_class_dir = os.path.join(train_dir, class_type)\\n    test_class_dir = os.path.join(test_dir, class_type)\\n    os.makedirs(train_class_dir, exist_ok=True)\\n    os.makedirs(test_class_dir, exist_ok=True)\\n\\n    all_files = []\\n    # Aggregate files from both source directories\\n    for dir_path in source_dirs[class_type]:\\n        all_files.extend([os.path.join(dir_path, file) for file in os.listdir(dir_path)])\\n    \\n    # Shuffle the list to ensure random distribution\\n    random.shuffle(all_files)\\n\\n    # Split files into train and test sets\\n    train_files = all_files[:train_count]\\n    test_files = all_files[train_count:train_count + test_count]\\n\\n    # Copy training files\\n    for file in train_files:\\n        shutil.copy(file, train_class_dir)\\n    \\n    # Copy testing files\\n    for file in test_files:\\n        shutil.copy(file, test_class_dir)\\n\\n# Process yesBall and noBall folders\\nprepare_folders(\\'yesBall\\', 699 + 699, 299 + 299)  # train_count and test_count from both class and usu folders\\nprepare_folders(\\'noBall\\', 698 + 699, 300 + 299)\\n\\nprint(\"Folder structure created and files copied successfully.\")\\n'"
            ],
            "application/vnd.google.colaboratory.intrinsic+json": {
              "type": "string"
            }
          },
          "metadata": {},
          "execution_count": 12
        }
      ]
    },
    {
      "cell_type": "code",
      "source": [
        "\n",
        "# Get the number of files in /content/drive/My Drive/202404_b/test_set/noBall\n",
        "num_files_test_noBall = len(os.listdir('/content/drive/My Drive/202404_b/test_set/noBall'))\n",
        "\n",
        "# Get the number of files in /content/drive/My Drive/202404_b/test_set/yesBall\n",
        "num_files_test_yesBall = len(os.listdir('/content/drive/My Drive/202404_b/test_set/yesBall'))\n",
        "\n",
        "# Get the number of files in /content/drive/My Drive/202404_b/train_set/noBall\n",
        "num_files_train_noBall = len(os.listdir('/content/drive/My Drive/202404_b/train_set/noBall'))\n",
        "\n",
        "# Get the number of files in /content/drive/My Drive/202404_b/train_set/yesBall\n",
        "num_files_train_yesBall = len(os.listdir('/content/drive/My Drive/202404_b/train_set/yesBall'))\n",
        "\n",
        "# Print the number of files for each folder\n",
        "print(f'Number of files in test_noBall: {num_files_test_noBall}')\n",
        "print(f'Number of files in test_yesBall: {num_files_test_yesBall}')\n",
        "print(f'Number of files in train_noBall: {num_files_train_noBall}')\n",
        "print(f'Number of files in train_yesBall: {num_files_train_yesBall}')\n"
      ],
      "metadata": {
        "colab": {
          "base_uri": "https://localhost:8080/"
        },
        "id": "8ti0SQGZ40MK",
        "outputId": "2e01a246-fcaa-438b-cb63-c8f82370752d"
      },
      "execution_count": 13,
      "outputs": [
        {
          "output_type": "stream",
          "name": "stdout",
          "text": [
            "Number of files in test_noBall: 599\n",
            "Number of files in test_yesBall: 598\n",
            "Number of files in train_noBall: 1397\n",
            "Number of files in train_yesBall: 1398\n"
          ]
        }
      ]
    },
    {
      "cell_type": "code",
      "source": [],
      "metadata": {
        "id": "rbosTGzo5uBq"
      },
      "execution_count": null,
      "outputs": []
    }
  ]
}