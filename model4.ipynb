{
  "nbformat": 4,
  "nbformat_minor": 0,
  "metadata": {
    "colab": {
      "provenance": [],
      "authorship_tag": "ABX9TyOfQuvdKD8lKAFoLKnIbofk",
      "include_colab_link": true
    },
    "kernelspec": {
      "name": "python3",
      "display_name": "Python 3"
    },
    "language_info": {
      "name": "python"
    }
  },
  "cells": [
    {
      "cell_type": "markdown",
      "metadata": {
        "id": "view-in-github",
        "colab_type": "text"
      },
      "source": [
        "<a href=\"https://colab.research.google.com/github/ALejandroCh17/Tennis-Ball-Robot/blob/daniel_branch/model4.ipynb\" target=\"_parent\"><img src=\"https://colab.research.google.com/assets/colab-badge.svg\" alt=\"Open In Colab\"/></a>"
      ]
    },
    {
      "cell_type": "code",
      "execution_count": 1,
      "metadata": {
        "colab": {
          "base_uri": "https://localhost:8080/"
        },
        "id": "YRh52dC5Qu9s",
        "outputId": "9b910dc3-b649-4b05-fd79-fdea68bc1523"
      },
      "outputs": [
        {
          "output_type": "stream",
          "name": "stdout",
          "text": [
            "Mounted at /content/drive\n"
          ]
        }
      ],
      "source": [
        "from google.colab import drive\n",
        "drive.mount('/content/drive')"
      ]
    },
    {
      "cell_type": "code",
      "source": [
        "class_noBall_dir = '/content/drive/My Drive/202404_b/class_noBall'\n",
        "class_yesBall_dir = '/content/drive/My Drive/202404_b/class_yesBall'\n",
        "usu_noBall_dir = '/content/drive/My Drive/202404_b/usu_noBall'\n",
        "usu_yesBall_dir = '/content/drive/My Drive/202404_b/usu_yesBall'"
      ],
      "metadata": {
        "id": "QvdUNvwiRZvc"
      },
      "execution_count": 15,
      "outputs": []
    },
    {
      "cell_type": "code",
      "source": [
        "import os\n",
        "\n",
        "num_files_class_noBall = len(os.listdir(class_noBall_dir))\n",
        "num_files_class_Ball = len(os.listdir(class_yesBall_dir))\n",
        "num_files_usu_noBall = len(os.listdir(usu_noBall_dir))\n",
        "num_files_usu_Ball = len(os.listdir(usu_yesBall_dir))\n",
        "\n",
        "print(f'Number of files in class_noBall_dir: {num_files_class_noBall}')\n",
        "print(f'Number of files in class_yesBall_dir: {num_files_class_Ball}')\n",
        "print(f'Number of files in usu_noBall_dir: {num_files_usu_noBall}')\n",
        "print(f'Number of files in usu_yesBall_dir: {num_files_usu_Ball}')\n"
      ],
      "metadata": {
        "colab": {
          "base_uri": "https://localhost:8080/"
        },
        "id": "SFHX6GxsR6QO",
        "outputId": "51624eb3-171c-4141-aa18-5a0f0365fb8d"
      },
      "execution_count": 16,
      "outputs": [
        {
          "output_type": "stream",
          "name": "stdout",
          "text": [
            "Number of files in class_noBall_dir: 998\n",
            "Number of files in class_yesBall_dir: 998\n",
            "Number of files in usu_noBall_dir: 1092\n",
            "Number of files in usu_yesBall_dir: 998\n"
          ]
        }
      ]
    }
  ]
}